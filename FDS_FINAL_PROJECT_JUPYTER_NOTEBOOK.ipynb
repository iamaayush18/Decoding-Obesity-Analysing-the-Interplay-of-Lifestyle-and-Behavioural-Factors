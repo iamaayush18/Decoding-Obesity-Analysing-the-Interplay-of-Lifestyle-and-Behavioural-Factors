{
 "cells": [
  {
   "cell_type": "markdown",
   "metadata": {
    "cell_id": "7c938a11de144633b362d4db99cd1393",
    "deepnote_app_coordinates": {
     "h": 120,
     "w": 12,
     "x": 0,
     "y": 0
    },
    "deepnote_cell_type": "text-cell-h1",
    "formattedRanges": []
   },
   "source": [
    "# Final Project: Foundation of Data Science"
   ]
  },
  {
   "cell_type": "markdown",
   "metadata": {
    "cell_id": "ed6864473c8047c3878aeaff449a852e",
    "deepnote_app_coordinates": {
     "h": 2,
     "w": 8,
     "x": 0,
     "y": 0
    },
    "deepnote_cell_type": "text-cell-p",
    "formattedRanges": []
   },
   "source": [
    "Contributors :"
   ]
  },
  {
   "cell_type": "markdown",
   "metadata": {
    "cell_id": "4d031fd30bf74392988fd41d696f046a",
    "deepnote_app_coordinates": {
     "h": 2,
     "w": 8,
     "x": 0,
     "y": 0
    },
    "deepnote_cell_type": "text-cell-p",
    "formattedRanges": []
   },
   "source": [
    "1] Suyash Yogesh Soniminde (sys8910)"
   ]
  },
  {
   "cell_type": "markdown",
   "metadata": {
    "cell_id": "0c4274ae28704112ae9698101f171d30",
    "deepnote_app_coordinates": {
     "h": 2,
     "w": 8,
     "x": 0,
     "y": 0
    },
    "deepnote_cell_type": "text-cell-p",
    "formattedRanges": []
   },
   "source": [
    "2] Kumar Ayush (ka3095)"
   ]
  },
  {
   "cell_type": "markdown",
   "metadata": {
    "cell_id": "4b434236716141f9b670c622975e7025",
    "deepnote_app_coordinates": {
     "h": 2,
     "w": 8,
     "x": 0,
     "y": 0
    },
    "deepnote_cell_type": "text-cell-p",
    "formattedRanges": []
   },
   "source": [
    "3] Ran Xu (rx523)"
   ]
  },
  {
   "cell_type": "markdown",
   "metadata": {
    "cell_id": "f166e1c699e74d2d83181181060e5f7c",
    "deepnote_app_coordinates": {
     "h": 2,
     "w": 8,
     "x": 0,
     "y": 0
    },
    "deepnote_cell_type": "text-cell-p",
    "formattedRanges": []
   },
   "source": [
    "--------------------------------------------------------------------------"
   ]
  },
  {
   "cell_type": "markdown",
   "metadata": {
    "cell_id": "e40b9836cbef48af90f3c0f36153434a",
    "deepnote_app_coordinates": {
     "h": 120,
     "w": 12,
     "x": 0,
     "y": 0
    },
    "deepnote_cell_type": "text-cell-h1",
    "formattedRanges": []
   },
   "source": [
    "# 1) Identify a question/estimand"
   ]
  },
  {
   "cell_type": "markdown",
   "metadata": {
    "cell_id": "09d9fe00867c431b9a9c6641edfcd235",
    "deepnote_app_coordinates": {
     "h": 2,
     "w": 8,
     "x": 0,
     "y": 0
    },
    "deepnote_cell_type": "text-cell-p",
    "formattedRanges": [
     {
      "fromCodePoint": 0,
      "marks": {
       "underline": true
      },
      "toCodePoint": 60,
      "type": "marks"
     }
    ]
   },
   "source": [
    " How do lifestyle and behaviour factors affect obesity risk?"
   ]
  },
  {
   "cell_type": "markdown",
   "metadata": {
    "cell_id": "42697f800f684afe9e530558485b0970",
    "deepnote_app_coordinates": {
     "h": 2,
     "w": 8,
     "x": 0,
     "y": 0
    },
    "deepnote_cell_type": "text-cell-p",
    "formattedRanges": [
     {
      "fromCodePoint": 0,
      "marks": {
       "underline": true
      },
      "toCodePoint": 59,
      "type": "marks"
     }
    ]
   },
   "source": [
    "==========================================================="
   ]
  },
  {
   "cell_type": "markdown",
   "metadata": {
    "cell_id": "df4d052fbdc843b7ace0a766a06a2af4",
    "deepnote_app_coordinates": {
     "h": 2,
     "w": 8,
     "x": 0,
     "y": 0
    },
    "deepnote_cell_type": "text-cell-p",
    "formattedRanges": [
     {
      "fromCodePoint": 0,
      "marks": {
       "underline": true
      },
      "toCodePoint": 1,
      "type": "marks"
     },
     {
      "fromCodePoint": 1,
      "marks": {
       "bold": true,
       "underline": true
      },
      "toCodePoint": 12,
      "type": "marks"
     },
     {
      "fromCodePoint": 12,
      "ranges": [],
      "toCodePoint": 126,
      "type": "link",
      "url": "https://archive.ics.uci.edu/dataset/544/estimation+of+obesity+levels+based+on+eating+habits+and+physical+condition"
     },
     {
      "fromCodePoint": 126,
      "ranges": [],
      "toCodePoint": 126,
      "type": "link",
      "url": "https://archive.ics.uci.edu/dataset/544/estimation+of+obesity+levels+based+on+eating+habits+and+physical+condition"
     }
    ]
   },
   "source": [
    " Dataset :- https://archive.ics.uci.edu/dataset/544/estimation+of+obesity+levels+based+on+eating+habits+and+physical+condition"
   ]
  },
  {
   "cell_type": "markdown",
   "metadata": {
    "cell_id": "8f8ea2a47e88410d93704249e0036135",
    "deepnote_app_coordinates": {
     "h": 2,
     "w": 8,
     "x": 0,
     "y": 0
    },
    "deepnote_cell_type": "text-cell-p",
    "formattedRanges": []
   },
   "source": [
    "\n"
   ]
  },
  {
   "cell_type": "markdown",
   "metadata": {
    "cell_id": "a60c4236b2cf4ff89c53b9e41e2d24b3",
    "deepnote_app_coordinates": {
     "h": 2,
     "w": 8,
     "x": 0,
     "y": 0
    },
    "deepnote_cell_type": "text-cell-p",
    "formattedRanges": [
     {
      "fromCodePoint": 0,
      "marks": {
       "bold": true,
       "underline": true
      },
      "toCodePoint": 25,
      "type": "marks"
     }
    ]
   },
   "source": [
    "Description of dataset : This dataset includes data for the estimation of obesity levels in individuals from the countries of Mexico, Peru and Colombia, based on their eating habits and physical condition."
   ]
  },
  {
   "cell_type": "markdown",
   "metadata": {
    "cell_id": "b73a1f2f40a24fd6886ded7132250be2",
    "deepnote_app_coordinates": {
     "h": 2,
     "w": 8,
     "x": 0,
     "y": 0
    },
    "deepnote_cell_type": "text-cell-p",
    "formattedRanges": [
     {
      "fromCodePoint": 0,
      "marks": {
       "bold": true,
       "underline": true
      },
      "toCodePoint": 51,
      "type": "marks"
     }
    ]
   },
   "source": [
    "Any scaling/transformations performed on the data :\n",
    "\n",
    "the following scaling and transformations have been performed on the dataset:"
   ]
  },
  {
   "cell_type": "markdown",
   "metadata": {
    "cell_id": "1836bf0f5d3f490c891a9aa11441cb44",
    "deepnote_app_coordinates": {
     "h": 2,
     "w": 8,
     "x": 0,
     "y": 0
    },
    "deepnote_cell_type": "text-cell-p",
    "formattedRanges": []
   },
   "source": [
    "-----------------------------------------------------------------"
   ]
  },
  {
   "cell_type": "markdown",
   "metadata": {
    "cell_id": "6636d6836e6942c4866eee8db8e0cdbc",
    "deepnote_app_coordinates": {
     "h": 2,
     "w": 8,
     "x": 0,
     "y": 0
    },
    "deepnote_cell_type": "text-cell-p",
    "formattedRanges": []
   },
   "source": [
    "Encoding Categorical Variables:"
   ]
  },
  {
   "cell_type": "markdown",
   "metadata": {
    "cell_id": "59119b52534d40eabe6a6005db550929",
    "deepnote_app_coordinates": {
     "h": 2,
     "w": 8,
     "x": 0,
     "y": 0
    },
    "deepnote_cell_type": "text-cell-p",
    "formattedRanges": []
   },
   "source": [
    "The CAEC column, which represents eating habits, was converted from categorical text values ('no', 'Sometimes', 'Frequently', 'Always') to integer values (0, 1, 2, 3) respectively. This transformation turns categorical text data into a numeric format that can be used in statistical models.\n",
    "The NObeyesdad column, indicating obesity levels, was transformed from categorical text values (e.g., 'Insufficient_Weight', 'Normal_Weight', 'Obesity_Type_I', etc.) to a range of integer values (0 to 6). :----"
   ]
  },
  {
   "cell_type": "markdown",
   "metadata": {
    "cell_id": "457849b3ef1b40fa808782adaebae2eb",
    "deepnote_app_coordinates": {
     "h": 2,
     "w": 8,
     "x": 0,
     "y": 0
    },
    "deepnote_cell_type": "text-cell-p",
    "formattedRanges": []
   },
   "source": [
    "('Insufficient_Weight':0,'Normal_Weight': 1, 'Obesity_Type_I': 2, 'Obesity_Type_II': 3, 'Obesity_Type_III': 4,'Overweight_Level_I':5,'Overweight_Level_II':6})"
   ]
  },
  {
   "cell_type": "markdown",
   "metadata": {
    "cell_id": "13c01c9e077846ada018b9eb1aa4d8d1",
    "deepnote_app_coordinates": {
     "h": 2,
     "w": 8,
     "x": 0,
     "y": 0
    },
    "deepnote_cell_type": "text-cell-p",
    "formattedRanges": []
   },
   "source": [
    "-----------------------------------------------------------------"
   ]
  },
  {
   "cell_type": "markdown",
   "metadata": {
    "cell_id": "afb997700a824ea79614bb17367fc47c",
    "deepnote_app_coordinates": {
     "h": 2,
     "w": 8,
     "x": 0,
     "y": 0
    },
    "deepnote_cell_type": "text-cell-p",
    "formattedRanges": []
   },
   "source": [
    "\n",
    "Standardizing Continuous Variables:"
   ]
  },
  {
   "cell_type": "markdown",
   "metadata": {
    "cell_id": "18511429b3b34076a349be87888cc535",
    "deepnote_app_coordinates": {
     "h": 2,
     "w": 8,
     "x": 0,
     "y": 0
    },
    "deepnote_cell_type": "text-cell-p",
    "formattedRanges": []
   },
   "source": [
    "The Age column was standardized by subtracting the mean and dividing by the standard deviation. Standardization transforms the data to have a mean of 0 and a standard deviation of 1. This was done to normalize the scale of continuous variables."
   ]
  },
  {
   "cell_type": "markdown",
   "metadata": {
    "cell_id": "bf2f8b3b158b449393a47dcfadca06c2",
    "deepnote_app_coordinates": {
     "h": 2,
     "w": 8,
     "x": 0,
     "y": 0
    },
    "deepnote_cell_type": "text-cell-p",
    "formattedRanges": []
   },
   "source": [
    "\n",
    "Similarly, the FAF column, which represents physical activity frequency, was standardized using the same approach as Age."
   ]
  },
  {
   "cell_type": "markdown",
   "metadata": {
    "cell_id": "9ec6d13904704eedac275e79e00da3c9",
    "deepnote_app_coordinates": {
     "h": 2,
     "w": 8,
     "x": 0,
     "y": 0
    },
    "deepnote_cell_type": "text-cell-p",
    "formattedRanges": []
   },
   "source": [
    "-----------------------------------------------------------------"
   ]
  },
  {
   "cell_type": "markdown",
   "metadata": {
    "cell_id": "f8ba69c6697d4a7f9f95744b168319c9",
    "deepnote_app_coordinates": {
     "h": 2,
     "w": 8,
     "x": 0,
     "y": 0
    },
    "deepnote_cell_type": "text-cell-p",
    "formattedRanges": []
   },
   "source": [
    "By encoding categorical variables and standardizing continuous variables, we have ensured that the data is made more uniform and suitable for our further statistical analysis. "
   ]
  },
  {
   "cell_type": "markdown",
   "metadata": {
    "cell_id": "9137f777bebb4f5881f627c3b1f8b4e6",
    "deepnote_app_coordinates": {
     "h": 2,
     "w": 8,
     "x": 0,
     "y": 0
    },
    "deepnote_cell_type": "text-cell-p",
    "formattedRanges": [
     {
      "fromCodePoint": 0,
      "marks": {
       "underline": true
      },
      "toCodePoint": 59,
      "type": "marks"
     }
    ]
   },
   "source": [
    "==========================================================="
   ]
  },
  {
   "cell_type": "markdown",
   "metadata": {
    "cell_id": "5236bdf8b6b343adbbdf331272abcd9d",
    "deepnote_app_coordinates": {
     "h": 120,
     "w": 12,
     "x": 0,
     "y": 0
    },
    "deepnote_cell_type": "text-cell-h1",
    "formattedRanges": []
   },
   "source": [
    "# 2) Describe a scientific/causal model"
   ]
  },
  {
   "cell_type": "markdown",
   "metadata": {
    "cell_id": "7ff29899d02b40dd89a6a4a54e3273de",
    "deepnote_app_coordinates": {
     "h": 2,
     "w": 8,
     "x": 0,
     "y": 0
    },
    "deepnote_cell_type": "text-cell-p",
    "formattedRanges": []
   },
   "source": [
    "Proposed DAG :-"
   ]
  },
  {
   "cell_type": "markdown",
   "metadata": {
    "cell_id": "10dc1f1dabad42ff9f0acdea2a253e96",
    "deepnote_app_coordinates": {
     "h": 2,
     "w": 8,
     "x": 0,
     "y": 0
    },
    "deepnote_cell_type": "text-cell-p",
    "formattedRanges": []
   },
   "source": [
    "The CAEC represents ‘Consumption of food between meals’. \n",
    "The FAF represents ‘Physical activity frequency’.\n",
    "And OL represents the NObeyesdad (Obesity level classification) "
   ]
  },
  {
   "cell_type": "markdown",
   "metadata": {
    "cell_id": "9d56c5b52c8544cf975d92a8f7d495b0",
    "deepnote_app_coordinates": {
     "h": 120,
     "w": 12,
     "x": 0,
     "y": 0
    },
    "deepnote_cell_type": "image",
    "deepnote_img_src": "image-20231211-230407.png"
   },
   "source": [
    "<img src=\"image-20231211-230407.png\" width=\"\" align=\"\" />"
   ]
  },
  {
   "cell_type": "markdown",
   "metadata": {
    "cell_id": "abd961b7a1344ff0bb3993d3ee7bb604",
    "deepnote_app_coordinates": {
     "h": 2,
     "w": 8,
     "x": 0,
     "y": 0
    },
    "deepnote_cell_type": "text-cell-p",
    "formattedRanges": []
   },
   "source": [
    "\n",
    "FAF and CAEC -> predictors. Age->confound. OL is the outcome variable."
   ]
  },
  {
   "cell_type": "markdown",
   "metadata": {
    "cell_id": "173bcb83e4d14d6690c5b857c7a6f6cf",
    "deepnote_app_coordinates": {
     "h": 2,
     "w": 8,
     "x": 0,
     "y": 0
    },
    "deepnote_cell_type": "text-cell-h1",
    "formattedRanges": [],
    "is_collapsed": false
   },
   "source": [
    "# 3) Define a corresponding statistical model"
   ]
  },
  {
   "cell_type": "markdown",
   "metadata": {
    "cell_id": "4050bc5575ea444c8e403e54af56fd45",
    "deepnote_app_coordinates": {
     "h": 2,
     "w": 8,
     "x": 0,
     "y": 0
    },
    "deepnote_cell_type": "text-cell-p",
    "formattedRanges": []
   },
   "source": [
    "Our proposed statistical model:"
   ]
  },
  {
   "cell_type": "markdown",
   "metadata": {
    "cell_id": "308a51f5c24740a39fd78c947296ff5c",
    "deepnote_app_coordinates": {
     "h": 2,
     "w": 8,
     "x": 0,
     "y": 0
    },
    "deepnote_cell_type": "text-cell-p",
    "formattedRanges": []
   },
   "source": [
    "\n",
    "Ordered Logistic Regression Model "
   ]
  },
  {
   "cell_type": "markdown",
   "metadata": {
    "cell_id": "aa596e3b13c4412eb0ad70a16fa7d749",
    "deepnote_app_coordinates": {
     "h": 2,
     "w": 8,
     "x": 0,
     "y": 0
    },
    "deepnote_cell_type": "text-cell-p",
    "formattedRanges": []
   },
   "source": [
    "\n",
    "Let's denote:\n",
    "- OL_i as the Obesity Level for the i^th individual,\n",
    "- FAF_i as the Physical Activity Frequency for the i^th individual,\n",
    "- CAEC_i as the Consumption of food between meals for the i^th individual,\n",
    "- Age_i as the Age for the i^th individual."
   ]
  },
  {
   "cell_type": "markdown",
   "metadata": {
    "cell_id": "a771b217adf146568c6e5be66d67a1ec",
    "deepnote_app_coordinates": {
     "h": 2,
     "w": 8,
     "x": 0,
     "y": 0
    },
    "deepnote_cell_type": "text-cell-p",
    "formattedRanges": []
   },
   "source": [
    "The model is :"
   ]
  },
  {
   "cell_type": "markdown",
   "metadata": {
    "cell_id": "abc3d8e55e1c4f5a8a3787fac7bee0d5",
    "deepnote_app_coordinates": {
     "h": 2,
     "w": 8,
     "x": 0,
     "y": 0
    },
    "deepnote_cell_type": "text-cell-p",
    "formattedRanges": []
   },
   "source": [
    "OL_i ~ OrderedLogit(ϕ_i, α)"
   ]
  },
  {
   "cell_type": "markdown",
   "metadata": {
    "cell_id": "1807191e30224a30a7139018df4d6ec8",
    "deepnote_app_coordinates": {
     "h": 2,
     "w": 8,
     "x": 0,
     "y": 0
    },
    "deepnote_cell_type": "text-cell-p",
    "formattedRanges": []
   },
   "source": [
    "Where:"
   ]
  },
  {
   "cell_type": "markdown",
   "metadata": {
    "cell_id": "0dc425971b164d639903581ce9311bf5",
    "deepnote_app_coordinates": {
     "h": 2,
     "w": 8,
     "x": 0,
     "y": 0
    },
    "deepnote_cell_type": "text-cell-p",
    "formattedRanges": []
   },
   "source": [
    "- OL_i is the Obesity Level for the i^th individual.\n",
    "- ϕ_i is the predictor for the i^th individual, defined as:"
   ]
  },
  {
   "cell_type": "markdown",
   "metadata": {
    "cell_id": "e3e7bb5004f74458900b6cf592921f6b",
    "deepnote_app_coordinates": {
     "h": 2,
     "w": 8,
     "x": 0,
     "y": 0
    },
    "deepnote_cell_type": "text-cell-p",
    "formattedRanges": []
   },
   "source": [
    "  ϕ_i = β_FAF · FAF_i + β_CAEC · Δ(CAEC_i) + β_Age · Age_i"
   ]
  },
  {
   "cell_type": "markdown",
   "metadata": {
    "cell_id": "86108602fc8c411ea9dc20c69e34a481",
    "deepnote_app_coordinates": {
     "h": 2,
     "w": 8,
     "x": 0,
     "y": 0
    },
    "deepnote_cell_type": "text-cell-p",
    "formattedRanges": []
   },
   "source": [
    "  Here:\n",
    "  - β_FAF, β_CAEC, and β_Age are the coefficients for Physical Activity Frequency, Consumption of food between meals, and Age, respectively.\n",
    "  - FAF_i is the Physical Activity Frequency for the i^th individual.\n",
    "  - CAEC_i is the Consumption of Food Between Meals for the i^th individual.\n",
    "  - Age_i is the Age for the i^th individual.\n",
    "  - Δ(CAEC_i) represents the cumulative sum of the Dirichlet distributed variable δ, indexed by CAEC_i."
   ]
  },
  {
   "cell_type": "markdown",
   "metadata": {
    "cell_id": "12dbe09d76d04e5b8d8bf87b591dde23",
    "deepnote_app_coordinates": {
     "h": 2,
     "w": 8,
     "x": 0,
     "y": 0
    },
    "deepnote_cell_type": "text-cell-p",
    "formattedRanges": []
   },
   "source": [
    "- α represents the cutpoints for the ordinal logistic regression."
   ]
  },
  {
   "cell_type": "markdown",
   "metadata": {
    "cell_id": "9d4ded94f0894947bcf9e769f778e991",
    "deepnote_app_coordinates": {
     "h": 2,
     "w": 8,
     "x": 0,
     "y": 0
    },
    "deepnote_cell_type": "text-cell-p",
    "formattedRanges": []
   },
   "source": [
    "Priors are :"
   ]
  },
  {
   "cell_type": "markdown",
   "metadata": {
    "cell_id": "72edcf4b351c4786b3cba46b725c55cb",
    "deepnote_app_coordinates": {
     "h": 2,
     "w": 8,
     "x": 0,
     "y": 0
    },
    "deepnote_cell_type": "text-cell-p",
    "formattedRanges": []
   },
   "source": [
    "1] β_age ~ Normal(0.2, 1)"
   ]
  },
  {
   "cell_type": "markdown",
   "metadata": {
    "cell_id": "60fbc667a20a42c6916501c90ea05718",
    "deepnote_app_coordinates": {
     "h": 2,
     "w": 8,
     "x": 0,
     "y": 0
    },
    "deepnote_cell_type": "text-cell-p",
    "formattedRanges": []
   },
   "source": [
    "2] β_FAF ~ Normal(-0.2, 1)"
   ]
  },
  {
   "cell_type": "markdown",
   "metadata": {
    "cell_id": "5ea8f1becd504bce9d2e1d9d2c6b8577",
    "deepnote_app_coordinates": {
     "h": 2,
     "w": 8,
     "x": 0,
     "y": 0
    },
    "deepnote_cell_type": "text-cell-p",
    "formattedRanges": []
   },
   "source": [
    "3] β_CAEC ~ Normal(-0.1, 1)"
   ]
  },
  {
   "cell_type": "markdown",
   "metadata": {
    "cell_id": "b9cf8351494148c580f5beca6e80fd42",
    "deepnote_app_coordinates": {
     "h": 2,
     "w": 8,
     "x": 0,
     "y": 0
    },
    "deepnote_cell_type": "text-cell-p",
    "formattedRanges": []
   },
   "source": [
    "4] α_j ~ Normal(0, 1)\n"
   ]
  },
  {
   "cell_type": "markdown",
   "metadata": {
    "cell_id": "c1581925e4f14573aebb064625f7793a",
    "deepnote_app_coordinates": {
     "h": 2,
     "w": 8,
     "x": 0,
     "y": 0
    },
    "deepnote_cell_type": "text-cell-p",
    "formattedRanges": []
   },
   "source": []
  },
  {
   "cell_type": "markdown",
   "metadata": {
    "cell_id": "363b71b68f51441d88be61f0433cfdb5",
    "deepnote_app_coordinates": {
     "h": 2,
     "w": 8,
     "x": 0,
     "y": 0
    },
    "deepnote_cell_type": "text-cell-p",
    "formattedRanges": []
   },
   "source": []
  },
  {
   "cell_type": "markdown",
   "metadata": {
    "cell_id": "1c20cf25e43045d2a93a71296ece39e9",
    "deepnote_app_coordinates": {
     "h": 2,
     "w": 8,
     "x": 0,
     "y": 0
    },
    "deepnote_cell_type": "text-cell-p",
    "formattedRanges": []
   },
   "source": []
  },
  {
   "cell_type": "markdown",
   "metadata": {
    "cell_id": "0d4db2309acf4326be985c63da4e980a",
    "deepnote_app_coordinates": {
     "h": 2,
     "w": 8,
     "x": 0,
     "y": 0
    },
    "deepnote_cell_type": "text-cell-p",
    "formattedRanges": []
   },
   "source": []
  },
  {
   "cell_type": "markdown",
   "metadata": {
    "cell_id": "74f9fd95437e449ea188c7103c7bb6fe",
    "deepnote_app_coordinates": {
     "h": 120,
     "w": 12,
     "x": 0,
     "y": 0
    },
    "deepnote_cell_type": "text-cell-h1",
    "formattedRanges": []
   },
   "source": [
    "# 4) Validate the model on simulated data with known parameter values"
   ]
  },
  {
   "cell_type": "markdown",
   "metadata": {
    "cell_id": "2e7770841eba40d4bf68e4f24b80ea9a",
    "deepnote_app_coordinates": {
     "h": 2,
     "w": 8,
     "x": 0,
     "y": 0
    },
    "deepnote_cell_type": "text-cell-p",
    "formattedRanges": []
   },
   "source": [
    "we generate simulated data and then validate our model on that by checking for the true beta know values we define earlier and the ones we get after running the model on simulated data and sampling its posterior distribution."
   ]
  },
  {
   "cell_type": "code",
   "execution_count": 1,
   "metadata": {
    "cell_id": "78928f8685304022953f9eb23657bd2a",
    "deepnote_app_coordinates": {
     "h": 120,
     "w": 12,
     "x": 0,
     "y": 0
    },
    "deepnote_cell_type": "code",
    "deepnote_to_be_reexecuted": false,
    "execution_millis": 29053,
    "execution_start": 1702354232079,
    "source_hash": "67a62e53"
   },
   "outputs": [
    {
     "name": "stdout",
     "output_type": "stream",
     "text": [
      "Collecting pymc\n",
      "  Downloading pymc-5.10.1-py3-none-any.whl (472 kB)\n",
      "\u001b[2K     \u001b[90m━━━━━━━━━━━━━━━━━━━━━━━━━━━━━━━━━━━━━━\u001b[0m \u001b[32m472.2/472.2 kB\u001b[0m \u001b[31m32.9 MB/s\u001b[0m eta \u001b[36m0:00:00\u001b[0m\n",
      "\u001b[?25hCollecting fastprogress>=0.2.0\n",
      "  Downloading fastprogress-1.0.3-py3-none-any.whl (12 kB)\n",
      "Requirement already satisfied: cachetools>=4.2.1 in /shared-libs/python3.9/py/lib/python3.9/site-packages (from pymc) (5.2.0)\n",
      "Requirement already satisfied: pandas>=0.24.0 in /shared-libs/python3.9/py/lib/python3.9/site-packages (from pymc) (1.2.5)\n",
      "Collecting arviz>=0.13.0\n",
      "  Downloading arviz-0.16.1-py3-none-any.whl (1.7 MB)\n",
      "\u001b[2K     \u001b[90m━━━━━━━━━━━━━━━━━━━━━━━━━━━━━━━━━━━━━━━━\u001b[0m \u001b[32m1.7/1.7 MB\u001b[0m \u001b[31m60.6 MB/s\u001b[0m eta \u001b[36m0:00:00\u001b[0m\n",
      "\u001b[?25hCollecting pytensor<2.19,>=2.18.1\n",
      "  Downloading pytensor-2.18.3-cp39-cp39-manylinux_2_17_x86_64.manylinux2014_x86_64.whl (1.7 MB)\n",
      "\u001b[2K     \u001b[90m━━━━━━━━━━━━━━━━━━━━━━━━━━━━━━━━━━━━━━━━\u001b[0m \u001b[32m1.7/1.7 MB\u001b[0m \u001b[31m64.2 MB/s\u001b[0m eta \u001b[36m0:00:00\u001b[0m\n",
      "\u001b[?25hRequirement already satisfied: scipy>=1.4.1 in /shared-libs/python3.9/py/lib/python3.9/site-packages (from pymc) (1.9.3)\n",
      "Collecting cloudpickle\n",
      "  Downloading cloudpickle-3.0.0-py3-none-any.whl (20 kB)\n",
      "Requirement already satisfied: typing-extensions>=3.7.4 in /shared-libs/python3.9/py/lib/python3.9/site-packages (from pymc) (4.4.0)\n",
      "Requirement already satisfied: numpy>=1.15.0 in /shared-libs/python3.9/py/lib/python3.9/site-packages (from pymc) (1.23.4)\n",
      "Collecting xarray-einstats>=0.3\n",
      "  Downloading xarray_einstats-0.6.0-py3-none-any.whl (31 kB)\n",
      "Collecting pandas>=0.24.0\n",
      "  Downloading pandas-2.1.4-cp39-cp39-manylinux_2_17_x86_64.manylinux2014_x86_64.whl (12.3 MB)\n",
      "\u001b[2K     \u001b[90m━━━━━━━━━━━━━━━━━━━━━━━━━━━━━━━━━━━━━━━━\u001b[0m \u001b[32m12.3/12.3 MB\u001b[0m \u001b[31m55.6 MB/s\u001b[0m eta \u001b[36m0:00:00\u001b[0m\n",
      "\u001b[?25hRequirement already satisfied: matplotlib>=3.2 in /shared-libs/python3.9/py/lib/python3.9/site-packages (from arviz>=0.13.0->pymc) (3.6.0)\n",
      "Requirement already satisfied: packaging in /shared-libs/python3.9/py-core/lib/python3.9/site-packages (from arviz>=0.13.0->pymc) (21.3)\n",
      "Collecting xarray>=0.21.0\n",
      "  Downloading xarray-2023.12.0-py3-none-any.whl (1.1 MB)\n",
      "\u001b[2K     \u001b[90m━━━━━━━━━━━━━━━━━━━━━━━━━━━━━━━━━━━━━━━━\u001b[0m \u001b[32m1.1/1.1 MB\u001b[0m \u001b[31m32.7 MB/s\u001b[0m eta \u001b[36m0:00:00\u001b[0m\n",
      "\u001b[?25hCollecting setuptools>=60.0.0\n",
      "  Downloading setuptools-69.0.2-py3-none-any.whl (819 kB)\n",
      "\u001b[2K     \u001b[90m━━━━━━━━━━━━━━━━━━━━━━━━━━━━━━━━━━━━━━\u001b[0m \u001b[32m819.5/819.5 kB\u001b[0m \u001b[31m55.3 MB/s\u001b[0m eta \u001b[36m0:00:00\u001b[0m\n",
      "\u001b[?25hCollecting h5netcdf>=1.0.2\n",
      "  Downloading h5netcdf-1.3.0-py3-none-any.whl (43 kB)\n",
      "\u001b[2K     \u001b[90m━━━━━━━━━━━━━━━━━━━━━━━━━━━━━━━━━━━━━━━━\u001b[0m \u001b[32m43.6/43.6 kB\u001b[0m \u001b[31m9.2 MB/s\u001b[0m eta \u001b[36m0:00:00\u001b[0m\n",
      "\u001b[?25hRequirement already satisfied: tzdata>=2022.1 in /shared-libs/python3.9/py/lib/python3.9/site-packages (from pandas>=0.24.0->pymc) (2022.5)\n",
      "Requirement already satisfied: pytz>=2020.1 in /shared-libs/python3.9/py/lib/python3.9/site-packages (from pandas>=0.24.0->pymc) (2022.5)\n",
      "Requirement already satisfied: python-dateutil>=2.8.2 in /shared-libs/python3.9/py-core/lib/python3.9/site-packages (from pandas>=0.24.0->pymc) (2.8.2)\n",
      "Collecting miniKanren\n",
      "  Downloading miniKanren-1.0.3.tar.gz (41 kB)\n",
      "\u001b[2K     \u001b[90m━━━━━━━━━━━━━━━━━━━━━━━━━━━━━━━━━━━━━━━━\u001b[0m \u001b[32m41.3/41.3 kB\u001b[0m \u001b[31m3.4 MB/s\u001b[0m eta \u001b[36m0:00:00\u001b[0m\n",
      "\u001b[?25h  Preparing metadata (setup.py) ... \u001b[?25ldone\n",
      "\u001b[?25hCollecting etuples\n",
      "  Downloading etuples-0.3.9.tar.gz (30 kB)\n",
      "  Preparing metadata (setup.py) ... \u001b[?25ldone\n",
      "\u001b[?25hRequirement already satisfied: filelock in /shared-libs/python3.9/py/lib/python3.9/site-packages (from pytensor<2.19,>=2.18.1->pymc) (3.8.0)\n",
      "Collecting cons\n",
      "  Downloading cons-0.4.6.tar.gz (26 kB)\n",
      "  Preparing metadata (setup.py) ... \u001b[?25ldone\n",
      "\u001b[?25hCollecting logical-unification\n",
      "  Downloading logical-unification-0.4.6.tar.gz (31 kB)\n",
      "  Preparing metadata (setup.py) ... \u001b[?25ldone\n",
      "\u001b[?25hRequirement already satisfied: h5py in /shared-libs/python3.9/py/lib/python3.9/site-packages (from h5netcdf>=1.0.2->arviz>=0.13.0->pymc) (3.7.0)\n",
      "Requirement already satisfied: cycler>=0.10 in /shared-libs/python3.9/py/lib/python3.9/site-packages (from matplotlib>=3.2->arviz>=0.13.0->pymc) (0.11.0)\n",
      "Requirement already satisfied: contourpy>=1.0.1 in /shared-libs/python3.9/py/lib/python3.9/site-packages (from matplotlib>=3.2->arviz>=0.13.0->pymc) (1.0.5)\n",
      "Requirement already satisfied: kiwisolver>=1.0.1 in /shared-libs/python3.9/py/lib/python3.9/site-packages (from matplotlib>=3.2->arviz>=0.13.0->pymc) (1.4.4)\n",
      "Requirement already satisfied: fonttools>=4.22.0 in /shared-libs/python3.9/py/lib/python3.9/site-packages (from matplotlib>=3.2->arviz>=0.13.0->pymc) (4.37.4)\n",
      "Requirement already satisfied: pillow>=6.2.0 in /shared-libs/python3.9/py/lib/python3.9/site-packages (from matplotlib>=3.2->arviz>=0.13.0->pymc) (9.2.0)\n",
      "Requirement already satisfied: pyparsing>=2.2.1 in /shared-libs/python3.9/py-core/lib/python3.9/site-packages (from matplotlib>=3.2->arviz>=0.13.0->pymc) (3.0.9)\n",
      "Requirement already satisfied: six>=1.5 in /shared-libs/python3.9/py-core/lib/python3.9/site-packages (from python-dateutil>=2.8.2->pandas>=0.24.0->pymc) (1.16.0)\n",
      "Requirement already satisfied: toolz in /shared-libs/python3.9/py/lib/python3.9/site-packages (from logical-unification->pytensor<2.19,>=2.18.1->pymc) (0.12.0)\n",
      "Collecting multipledispatch\n",
      "  Downloading multipledispatch-1.0.0-py3-none-any.whl (12 kB)\n",
      "Building wheels for collected packages: cons, logical-unification, etuples, miniKanren\n",
      "  Building wheel for cons (setup.py) ... \u001b[?25ldone\n",
      "\u001b[?25h  Created wheel for cons: filename=cons-0.4.6-py3-none-any.whl size=9098 sha256=dd6ec36cc3c556f376f55f94813cb721ae382c00c0de3b63a17dae5d84ccf0ee\n",
      "  Stored in directory: /root/.cache/pip/wheels/56/8e/eb/130d313bbaf36c97915634104d81fb7119332331ce32dca02e\n",
      "  Building wheel for logical-unification (setup.py) ... \u001b[?25ldone\n",
      "\u001b[?25h  Created wheel for logical-unification: filename=logical_unification-0.4.6-py3-none-any.whl size=13928 sha256=9004996522391e03df2bdb38bbc9af054ce3603f24127fef5777dc38d0d26a7d\n",
      "  Stored in directory: /root/.cache/pip/wheels/c0/b5/eb/4af72f29fe7c242c96064dcc7f0c0925e879f02ef0a2858627\n",
      "  Building wheel for etuples (setup.py) ... \u001b[?25ldone\n",
      "\u001b[?25h  Created wheel for etuples: filename=etuples-0.3.9-py3-none-any.whl size=12640 sha256=d3179e63363456fc31fe94245488017f6fc1965d0919fe3ba090319ad8517571\n",
      "  Stored in directory: /root/.cache/pip/wheels/39/61/89/eea4bbeb6d803a2a803e1ca4eac3c05ef89157c72a72dfe1e2\n",
      "  Building wheel for miniKanren (setup.py) ... \u001b[?25ldone\n",
      "\u001b[?25h  Created wheel for miniKanren: filename=miniKanren-1.0.3-py3-none-any.whl size=23929 sha256=37aabe39007209267225a50e82527144366428a02ecffd1612b10eaf8d5158d9\n",
      "  Stored in directory: /root/.cache/pip/wheels/d3/a4/be/da3156a6e79d4ce54e83d66e27510361fce41bec9bd174b288\n",
      "Successfully built cons logical-unification etuples miniKanren\n",
      "Installing collected packages: multipledispatch, setuptools, logical-unification, fastprogress, cloudpickle, pandas, h5netcdf, cons, xarray, etuples, xarray-einstats, miniKanren, pytensor, arviz, pymc\n",
      "  Attempting uninstall: setuptools\n",
      "    Found existing installation: setuptools 58.1.0\n",
      "    Uninstalling setuptools-58.1.0:\n",
      "      Successfully uninstalled setuptools-58.1.0\n",
      "  Attempting uninstall: pandas\n",
      "    Found existing installation: pandas 1.2.5\n",
      "    Not uninstalling pandas at /shared-libs/python3.9/py/lib/python3.9/site-packages, outside environment /root/venv\n",
      "    Can't uninstall 'pandas'. No files were found to uninstall.\n",
      "Successfully installed arviz-0.16.1 cloudpickle-3.0.0 cons-0.4.6 etuples-0.3.9 fastprogress-1.0.3 h5netcdf-1.3.0 logical-unification-0.4.6 miniKanren-1.0.3 multipledispatch-1.0.0 pandas-2.1.4 pymc-5.10.1 pytensor-2.18.3 setuptools-69.0.2 xarray-2023.12.0 xarray-einstats-0.6.0\n",
      "\n",
      "\u001b[1m[\u001b[0m\u001b[34;49mnotice\u001b[0m\u001b[1;39;49m]\u001b[0m\u001b[39;49m A new release of pip is available: \u001b[0m\u001b[31;49m23.0.1\u001b[0m\u001b[39;49m -> \u001b[0m\u001b[32;49m23.3.1\u001b[0m\n",
      "\u001b[1m[\u001b[0m\u001b[34;49mnotice\u001b[0m\u001b[1;39;49m]\u001b[0m\u001b[39;49m To update, run: \u001b[0m\u001b[32;49mpip install --upgrade pip\u001b[0m\n"
     ]
    }
   ],
   "source": [
    "!pip install pymc"
   ]
  },
  {
   "cell_type": "code",
   "execution_count": 2,
   "metadata": {
    "cell_id": "592ff8718161400e8af0ccba0e09564d",
    "deepnote_app_coordinates": {
     "h": 120,
     "w": 12,
     "x": 0,
     "y": 0
    },
    "deepnote_cell_type": "code",
    "deepnote_to_be_reexecuted": false,
    "execution_millis": 1503,
    "execution_start": 1702354261143,
    "source_hash": "7bbfcc11"
   },
   "outputs": [],
   "source": [
    "import numpy as np\n",
    "import pandas as pd\n",
    "from scipy.stats import logistic\n",
    "\n",
    "# Function for one-hot encoding\n",
    "def one_hot_encode(array, num_categories):\n",
    "    return np.eye(num_categories)[array]\n",
    "\n",
    "# Set seed for reproducibility\n",
    "RANDOM_SEED = 8927\n",
    "np.random.seed(365)\n",
    "\n",
    "# Number of samples\n",
    "n = 1000\n",
    "\n",
    "# Simulate 'FAF' as a continuous variable with values between 0 and 3\n",
    "sim_FAF = np.random.uniform(0, 3, size=n)\n",
    "\n",
    "# Simulate 'CAEC' as categorical variables with 4 levels\n",
    "sim_CAEC = np.random.choice([0, 1, 2, 3], size=n, p=[0.84, 0.11, 0.03, 0.02])\n",
    "\n",
    "# One-hot encode 'sim_CAEC'\n",
    "sim_CAEC_encoded = one_hot_encode(sim_CAEC, 4)\n",
    "\n",
    "# Simulate 'Age' and normalize it\n",
    "age_mean = 24.31\n",
    "age_std = 6.35\n",
    "sim_Age = np.random.normal(age_mean, age_std, n)\n",
    "sim_Age_normalized = (sim_Age - np.mean(sim_Age)) / np.std(sim_Age)\n",
    "\n",
    "# True beta coefficients for FAF, CAEC, and Age\n",
    "beta_FAF = -0.25 \n",
    "beta_CAEC = np.array([-0.05, -0.1, -0.15, -0.2])  \n",
    "beta_Age = 0.25 \n",
    "\n",
    "# Define cutpoints for 7 categories of Obesity Level\n",
    "cutpoints = [-1.0, -0.5, 0.0, 0.5, 1.0, 1.5]\n",
    "\n",
    "# Compute predictor\n",
    "phi = beta_FAF * sim_FAF + np.dot(sim_CAEC_encoded, beta_CAEC) + beta_Age * sim_Age_normalized\n",
    "\n",
    "# Convert predictor to probabilities and simulate outcome\n",
    "probabilities = 1-logistic.cdf(cutpoints - phi[:, None])\n",
    "sim_OL = np.array([np.sum(p > np.random.rand()) for p in probabilities])"
   ]
  },
  {
   "cell_type": "code",
   "execution_count": 3,
   "metadata": {
    "cell_id": "9eb895e279144b34ad881a2bac561e7f",
    "deepnote_app_coordinates": {
     "h": 120,
     "w": 12,
     "x": 0,
     "y": 0
    },
    "deepnote_cell_type": "code",
    "deepnote_to_be_reexecuted": false,
    "execution_millis": 16,
    "execution_start": 1702354262664,
    "source_hash": "c60c6395"
   },
   "outputs": [
    {
     "data": {
      "text/plain": [
       "numpy.ndarray"
      ]
     },
     "execution_count": 3,
     "metadata": {},
     "output_type": "execute_result"
    }
   ],
   "source": [
    "type(sim_OL)"
   ]
  },
  {
   "cell_type": "code",
   "execution_count": 4,
   "metadata": {
    "cell_id": "18a293d4b59243bc9c44347eddd2befc",
    "deepnote_app_coordinates": {
     "h": 120,
     "w": 12,
     "x": 0,
     "y": 0
    },
    "deepnote_cell_type": "code",
    "deepnote_to_be_reexecuted": false,
    "execution_millis": 2037,
    "execution_start": 1702354262687,
    "source_hash": "eced9927"
   },
   "outputs": [
    {
     "data": {
      "image/png": "[encoded data removed]",
      "text/plain": [
       "<Figure size 1000x600 with 1 Axes>"
      ]
     },
     "metadata": {
      "image/png": {
       "height": 547,
       "width": 855
      }
     },
     "output_type": "display_data"
    }
   ],
   "source": [
    "import matplotlib.pyplot as plt\n",
    "# Plotting the distribution of sim_OL\n",
    "plt.figure(figsize=(10, 6))\n",
    "plt.hist(sim_OL, bins=range(8), align='left', color='skyblue', edgecolor='black')\n",
    "plt.xlabel('Obesity Level Categories')\n",
    "plt.ylabel('Frequency')\n",
    "plt.title('Distribution of Simulated Obesity Level')\n",
    "plt.xticks(range(8))\n",
    "plt.show()"
   ]
  },
  {
   "cell_type": "code",
   "execution_count": 5,
   "metadata": {
    "cell_id": "3e29ddb8126b4371a8d48107f41fc5d6",
    "deepnote_app_coordinates": {
     "h": 120,
     "w": 12,
     "x": 0,
     "y": 0
    },
    "deepnote_cell_type": "code",
    "deepnote_to_be_reexecuted": false,
    "execution_millis": 307757,
    "execution_start": 1702354264763,
    "source_hash": "8140a535"
   },
   "outputs": [
    {
     "name": "stderr",
     "output_type": "stream",
     "text": [
      "/root/venv/lib/python3.9/site-packages/_distutils_hack/__init__.py:18: UserWarning: Distutils was imported before Setuptools, but importing Setuptools also replaces the `distutils` module in `sys.modules`. This may lead to undesirable behaviors or errors. To avoid these issues, avoid using distutils directly, ensure that setuptools is installed in the traditional way (e.g. not an editable install), and/or make sure that setuptools is always imported before distutils.\n",
      "  warnings.warn(\n",
      "/root/venv/lib/python3.9/site-packages/_distutils_hack/__init__.py:33: UserWarning: Setuptools is replacing distutils.\n",
      "  warnings.warn(\"Setuptools is replacing distutils.\")\n",
      "WARNING (pytensor.tensor.blas): Using NumPy C-API based implementation for BLAS functions.\n",
      "/tmp/ipykernel_86/2381072452.py:14: FutureWarning: The `testval` argument is deprecated; use `initval`.\n",
      "  alpha = pm.Normal(\n",
      "Auto-assigning NUTS sampler...\n",
      "Initializing NUTS using jitter+adapt_diag...\n",
      "Multiprocess sampling (2 chains in 2 jobs)\n",
      "NUTS: [alpha, bA, bC, bF, delta]\n"
     ]
    },
    {
     "data": {
      "text/html": [
       "\n",
       "<style>\n",
       "    /* Turns off some styling */\n",
       "    progress {\n",
       "        /* gets rid of default border in Firefox and Opera. */\n",
       "        border: none;\n",
       "        /* Needs to be in here for Safari polyfill so background images work as expected. */\n",
       "        background-size: auto;\n",
       "    }\n",
       "    progress:not([value]), progress:not([value])::-webkit-progress-bar {\n",
       "        background: repeating-linear-gradient(45deg, #7e7e7e, #7e7e7e 10px, #5c5c5c 10px, #5c5c5c 20px);\n",
       "    }\n",
       "    .progress-bar-interrupted, .progress-bar-interrupted::-webkit-progress-bar {\n",
       "        background: #F44336;\n",
       "    }\n",
       "</style>\n"
      ],
      "text/plain": [
       "<IPython.core.display.HTML object>"
      ]
     },
     "metadata": {},
     "output_type": "display_data"
    },
    {
     "data": {
      "text/html": [
       "\n",
       "    <div>\n",
       "      <progress value='0' class='' max='6000' style='width:300px; height:20px; vertical-align: middle;'></progress>\n",
       "      \n",
       "    </div>\n",
       "    "
      ],
      "text/plain": [
       "<IPython.core.display.HTML object>"
      ]
     },
     "metadata": {},
     "output_type": "display_data"
    },
    {
     "name": "stderr",
     "output_type": "stream",
     "text": [
      "Sampling 2 chains for 2_000 tune and 1_000 draw iterations (4_000 + 2_000 draws total) took 189 seconds.\n",
      "We recommend running at least 4 chains for robust computation of convergence diagnostics\n"
     ]
    },
    {
     "data": {
      "application/vnd.deepnote.dataframe.v3+json": {
       "column_count": 9,
       "columns": [
        {
         "dtype": "float64",
         "name": "mean",
         "stats": {
          "histogram": [
           {
            "bin_end": -0.722,
            "bin_start": -0.98,
            "count": 1
           },
           {
            "bin_end": -0.46399999999999997,
            "bin_start": -0.722,
            "count": 1
           },
           {
            "bin_end": -0.20599999999999996,
            "bin_start": -0.46399999999999997,
            "count": 1
           },
           {
            "bin_end": 0.052000000000000046,
            "bin_start": -0.20599999999999996,
            "count": 2
           },
           {
            "bin_end": 0.31000000000000005,
            "bin_start": 0.052000000000000046,
            "count": 1
           },
           {
            "bin_end": 0.5680000000000001,
            "bin_start": 0.31000000000000005,
            "count": 4
           },
           {
            "bin_end": 0.8260000000000001,
            "bin_start": 0.5680000000000001,
            "count": 0
           },
           {
            "bin_end": 1.084,
            "bin_start": 0.8260000000000001,
            "count": 0
           },
           {
            "bin_end": 1.342,
            "bin_start": 1.084,
            "count": 1
           },
           {
            "bin_end": 1.6,
            "bin_start": 1.342,
            "count": 1
           }
          ],
          "max": "1.6",
          "min": "-0.98",
          "nan_count": 0,
          "unique_count": 11
         }
        },
        {
         "dtype": "float64",
         "name": "sd",
         "stats": {
          "histogram": [
           {
            "bin_end": 0.082,
            "bin_start": 0.06,
            "count": 2
           },
           {
            "bin_end": 0.10400000000000001,
            "bin_start": 0.082,
            "count": 3
           },
           {
            "bin_end": 0.126,
            "bin_start": 0.10400000000000001,
            "count": 5
           },
           {
            "bin_end": 0.14800000000000002,
            "bin_start": 0.126,
            "count": 1
           },
           {
            "bin_end": 0.17,
            "bin_start": 0.14800000000000002,
            "count": 0
           },
           {
            "bin_end": 0.192,
            "bin_start": 0.17,
            "count": 0
           },
           {
            "bin_end": 0.21400000000000002,
            "bin_start": 0.192,
            "count": 0
           },
           {
            "bin_end": 0.23600000000000002,
            "bin_start": 0.21400000000000002,
            "count": 0
           },
           {
            "bin_end": 0.258,
            "bin_start": 0.23600000000000002,
            "count": 0
           },
           {
            "bin_end": 0.28,
            "bin_start": 0.258,
            "count": 1
           }
          ],
          "max": "0.28",
          "min": "0.06",
          "nan_count": 0,
          "unique_count": 7
         }
        },
        {
         "dtype": "float64",
         "name": "hdi_3%",
         "stats": {
          "histogram": [
           {
            "bin_end": -0.9359999999999999,
            "bin_start": -1.19,
            "count": 1
           },
           {
            "bin_end": -0.6819999999999999,
            "bin_start": -0.9359999999999999,
            "count": 1
           },
           {
            "bin_end": -0.42799999999999994,
            "bin_start": -0.6819999999999999,
            "count": 1
           },
           {
            "bin_end": -0.17399999999999993,
            "bin_start": -0.42799999999999994,
            "count": 2
           },
           {
            "bin_end": 0.08000000000000007,
            "bin_start": -0.17399999999999993,
            "count": 0
           },
           {
            "bin_end": 0.3340000000000001,
            "bin_start": 0.08000000000000007,
            "count": 5
           },
           {
            "bin_end": 0.5880000000000001,
            "bin_start": 0.3340000000000001,
            "count": 0
           },
           {
            "bin_end": 0.8420000000000001,
            "bin_start": 0.5880000000000001,
            "count": 0
           },
           {
            "bin_end": 1.096,
            "bin_start": 0.8420000000000001,
            "count": 1
           },
           {
            "bin_end": 1.35,
            "bin_start": 1.096,
            "count": 1
           }
          ],
          "max": "1.35",
          "min": "-1.19",
          "nan_count": 0,
          "unique_count": 12
         }
        },
        {
         "dtype": "float64",
         "name": "hdi_97%",
         "stats": {
          "histogram": [
           {
            "bin_end": -0.509,
            "bin_start": -0.77,
            "count": 1
           },
           {
            "bin_end": -0.248,
            "bin_start": -0.509,
            "count": 1
           },
           {
            "bin_end": 0.013000000000000012,
            "bin_start": -0.248,
            "count": 1
           },
           {
            "bin_end": 0.274,
            "bin_start": 0.013000000000000012,
            "count": 1
           },
           {
            "bin_end": 0.5350000000000001,
            "bin_start": 0.274,
            "count": 4
           },
           {
            "bin_end": 0.796,
            "bin_start": 0.5350000000000001,
            "count": 2
           },
           {
            "bin_end": 1.057,
            "bin_start": 0.796,
            "count": 0
           },
           {
            "bin_end": 1.318,
            "bin_start": 1.057,
            "count": 0
           },
           {
            "bin_end": 1.5790000000000002,
            "bin_start": 1.318,
            "count": 1
           },
           {
            "bin_end": 1.84,
            "bin_start": 1.5790000000000002,
            "count": 1
           }
          ],
          "max": "1.84",
          "min": "-0.77",
          "nan_count": 0,
          "unique_count": 12
         }
        },
        {
         "dtype": "float64",
         "name": "mcse_mean",
         "stats": {
          "histogram": [
           {
            "bin_end": 0.001,
            "bin_start": 0,
            "count": 11
           },
           {
            "bin_end": 0.002,
            "bin_start": 0.001,
            "count": 0
           },
           {
            "bin_end": 0.003,
            "bin_start": 0.002,
            "count": 0
           },
           {
            "bin_end": 0.004,
            "bin_start": 0.003,
            "count": 0
           },
           {
            "bin_end": 0.005,
            "bin_start": 0.004,
            "count": 0
           },
           {
            "bin_end": 0.006,
            "bin_start": 0.005,
            "count": 0
           },
           {
            "bin_end": 0.007,
            "bin_start": 0.006,
            "count": 0
           },
           {
            "bin_end": 0.008,
            "bin_start": 0.007,
            "count": 0
           },
           {
            "bin_end": 0.009000000000000001,
            "bin_start": 0.008,
            "count": 0
           },
           {
            "bin_end": 0.01,
            "bin_start": 0.009000000000000001,
            "count": 1
           }
          ],
          "max": "0.01",
          "min": "0.0",
          "nan_count": 0,
          "unique_count": 2
         }
        },
        {
         "dtype": "float64",
         "name": "mcse_sd",
         "stats": {
          "histogram": [
           {
            "bin_end": 0.001,
            "bin_start": 0,
            "count": 11
           },
           {
            "bin_end": 0.002,
            "bin_start": 0.001,
            "count": 0
           },
           {
            "bin_end": 0.003,
            "bin_start": 0.002,
            "count": 0
           },
           {
            "bin_end": 0.004,
            "bin_start": 0.003,
            "count": 0
           },
           {
            "bin_end": 0.005,
            "bin_start": 0.004,
            "count": 0
           },
           {
            "bin_end": 0.006,
            "bin_start": 0.005,
            "count": 0
           },
           {
            "bin_end": 0.007,
            "bin_start": 0.006,
            "count": 0
           },
           {
            "bin_end": 0.008,
            "bin_start": 0.007,
            "count": 0
           },
           {
            "bin_end": 0.009000000000000001,
            "bin_start": 0.008,
            "count": 0
           },
           {
            "bin_end": 0.01,
            "bin_start": 0.009000000000000001,
            "count": 1
           }
          ],
          "max": "0.01",
          "min": "0.0",
          "nan_count": 0,
          "unique_count": 2
         }
        },
        {
         "dtype": "float64",
         "name": "ess_bulk",
         "stats": {
          "histogram": [
           {
            "bin_end": 747.802,
            "bin_start": 543.35,
            "count": 7
           },
           {
            "bin_end": 952.254,
            "bin_start": 747.802,
            "count": 0
           },
           {
            "bin_end": 1156.7060000000001,
            "bin_start": 952.254,
            "count": 0
           },
           {
            "bin_end": 1361.158,
            "bin_start": 1156.7060000000001,
            "count": 0
           },
           {
            "bin_end": 1565.6100000000001,
            "bin_start": 1361.158,
            "count": 1
           },
           {
            "bin_end": 1770.062,
            "bin_start": 1565.6100000000001,
            "count": 1
           },
           {
            "bin_end": 1974.5140000000001,
            "bin_start": 1770.062,
            "count": 0
           },
           {
            "bin_end": 2178.966,
            "bin_start": 1974.5140000000001,
            "count": 1
           },
           {
            "bin_end": 2383.418,
            "bin_start": 2178.966,
            "count": 1
           },
           {
            "bin_end": 2587.87,
            "bin_start": 2383.418,
            "count": 1
           }
          ],
          "max": "2587.87",
          "min": "543.35",
          "nan_count": 0,
          "unique_count": 12
         }
        },
        {
         "dtype": "float64",
         "name": "ess_tail",
         "stats": {
          "histogram": [
           {
            "bin_end": 865.7570000000001,
            "bin_start": 793.82,
            "count": 3
           },
           {
            "bin_end": 937.6940000000001,
            "bin_start": 865.7570000000001,
            "count": 3
           },
           {
            "bin_end": 1009.6310000000001,
            "bin_start": 937.6940000000001,
            "count": 0
           },
           {
            "bin_end": 1081.568,
            "bin_start": 1009.6310000000001,
            "count": 0
           },
           {
            "bin_end": 1153.505,
            "bin_start": 1081.568,
            "count": 2
           },
           {
            "bin_end": 1225.442,
            "bin_start": 1153.505,
            "count": 1
           },
           {
            "bin_end": 1297.379,
            "bin_start": 1225.442,
            "count": 1
           },
           {
            "bin_end": 1369.316,
            "bin_start": 1297.379,
            "count": 0
           },
           {
            "bin_end": 1441.2530000000002,
            "bin_start": 1369.316,
            "count": 1
           },
           {
            "bin_end": 1513.19,
            "bin_start": 1441.2530000000002,
            "count": 1
           }
          ],
          "max": "1513.19",
          "min": "793.82",
          "nan_count": 0,
          "unique_count": 12
         }
        },
        {
         "dtype": "float64",
         "name": "r_hat",
         "stats": {
          "histogram": [
           {
            "bin_end": 1.001,
            "bin_start": 1,
            "count": 7
           },
           {
            "bin_end": 1.002,
            "bin_start": 1.001,
            "count": 0
           },
           {
            "bin_end": 1.0030000000000001,
            "bin_start": 1.002,
            "count": 0
           },
           {
            "bin_end": 1.004,
            "bin_start": 1.0030000000000001,
            "count": 0
           },
           {
            "bin_end": 1.005,
            "bin_start": 1.004,
            "count": 0
           },
           {
            "bin_end": 1.006,
            "bin_start": 1.005,
            "count": 0
           },
           {
            "bin_end": 1.0070000000000001,
            "bin_start": 1.006,
            "count": 0
           },
           {
            "bin_end": 1.008,
            "bin_start": 1.0070000000000001,
            "count": 0
           },
           {
            "bin_end": 1.009,
            "bin_start": 1.008,
            "count": 0
           },
           {
            "bin_end": 1.01,
            "bin_start": 1.009,
            "count": 5
           }
          ],
          "max": "1.01",
          "min": "1.0",
          "nan_count": 0,
          "unique_count": 2
         }
        },
        {
         "dtype": "object",
         "name": "_deepnote_index_column"
        }
       ],
       "row_count": 12,
       "rows": [
        {
         "_deepnote_index_column": "bC",
         "ess_bulk": 1986.13,
         "ess_tail": 1252.89,
         "hdi_3%": -0.55,
         "hdi_97%": 0.54,
         "mcse_mean": 0.01,
         "mcse_sd": 0.01,
         "mean": -0.03,
         "r_hat": 1,
         "sd": 0.28
        },
        {
         "_deepnote_index_column": "bF",
         "ess_bulk": 640.87,
         "ess_tail": 854.65,
         "hdi_3%": -0.38,
         "hdi_97%": -0.14,
         "mcse_mean": 0,
         "mcse_sd": 0,
         "mean": -0.26,
         "r_hat": 1.01,
         "sd": 0.06
        },
        {
         "_deepnote_index_column": "bA",
         "ess_bulk": 2245.98,
         "ess_tail": 1371.34,
         "hdi_3%": 0.12,
         "hdi_97%": 0.32,
         "mcse_mean": 0,
         "mcse_sd": 0,
         "mean": 0.22,
         "r_hat": 1,
         "sd": 0.06
        },
        {
         "_deepnote_index_column": "alpha[0]",
         "ess_bulk": 577.36,
         "ess_tail": 907.75,
         "hdi_3%": -1.19,
         "hdi_97%": -0.77,
         "mcse_mean": 0,
         "mcse_sd": 0,
         "mean": -0.98,
         "r_hat": 1.01,
         "sd": 0.12
        },
        {
         "_deepnote_index_column": "alpha[1]",
         "ess_bulk": 549.94,
         "ess_tail": 906.76,
         "hdi_3%": -0.69,
         "hdi_97%": -0.26,
         "mcse_mean": 0,
         "mcse_sd": 0,
         "mean": -0.47,
         "r_hat": 1.01,
         "sd": 0.11
        },
        {
         "_deepnote_index_column": "alpha[2]",
         "ess_bulk": 543.35,
         "ess_tail": 793.82,
         "hdi_3%": -0.22,
         "hdi_97%": 0.2,
         "mcse_mean": 0,
         "mcse_sd": 0,
         "mean": 0.01,
         "r_hat": 1.01,
         "sd": 0.11
        },
        {
         "_deepnote_index_column": "alpha[3]",
         "ess_bulk": 551.58,
         "ess_tail": 825.22,
         "hdi_3%": 0.33,
         "hdi_97%": 0.75,
         "mcse_mean": 0,
         "mcse_sd": 0,
         "mean": 0.54,
         "r_hat": 1.01,
         "sd": 0.11
        },
        {
         "_deepnote_index_column": "alpha[4]",
         "ess_bulk": 615.48,
         "ess_tail": 908.83,
         "hdi_3%": 0.89,
         "hdi_97%": 1.34,
         "mcse_mean": 0,
         "mcse_sd": 0,
         "mean": 1.1,
         "r_hat": 1,
         "sd": 0.12
        },
        {
         "_deepnote_index_column": "alpha[5]",
         "ess_bulk": 692.82,
         "ess_tail": 1114.07,
         "hdi_3%": 1.35,
         "hdi_97%": 1.84,
         "mcse_mean": 0,
         "mcse_sd": 0,
         "mean": 1.6,
         "r_hat": 1,
         "sd": 0.13
        },
        {
         "_deepnote_index_column": "delta[0]",
         "ess_bulk": 1718.37,
         "ess_tail": 1513.19,
         "hdi_3%": 0.17,
         "hdi_97%": 0.52,
         "mcse_mean": 0,
         "mcse_sd": 0,
         "mean": 0.33,
         "r_hat": 1,
         "sd": 0.09
        }
       ]
      },
      "text/html": [
       "<div>\n",
       "<style scoped>\n",
       "    .dataframe tbody tr th:only-of-type {\n",
       "        vertical-align: middle;\n",
       "    }\n",
       "\n",
       "    .dataframe tbody tr th {\n",
       "        vertical-align: top;\n",
       "    }\n",
       "\n",
       "    .dataframe thead th {\n",
       "        text-align: right;\n",
       "    }\n",
       "</style>\n",
       "<table border=\"1\" class=\"dataframe\">\n",
       "  <thead>\n",
       "    <tr style=\"text-align: right;\">\n",
       "      <th></th>\n",
       "      <th>mean</th>\n",
       "      <th>sd</th>\n",
       "      <th>hdi_3%</th>\n",
       "      <th>hdi_97%</th>\n",
       "      <th>mcse_mean</th>\n",
       "      <th>mcse_sd</th>\n",
       "      <th>ess_bulk</th>\n",
       "      <th>ess_tail</th>\n",
       "      <th>r_hat</th>\n",
       "    </tr>\n",
       "  </thead>\n",
       "  <tbody>\n",
       "    <tr>\n",
       "      <th>bC</th>\n",
       "      <td>-0.03</td>\n",
       "      <td>0.28</td>\n",
       "      <td>-0.55</td>\n",
       "      <td>0.54</td>\n",
       "      <td>0.01</td>\n",
       "      <td>0.01</td>\n",
       "      <td>1986.13</td>\n",
       "      <td>1252.89</td>\n",
       "      <td>1.00</td>\n",
       "    </tr>\n",
       "    <tr>\n",
       "      <th>bF</th>\n",
       "      <td>-0.26</td>\n",
       "      <td>0.06</td>\n",
       "      <td>-0.38</td>\n",
       "      <td>-0.14</td>\n",
       "      <td>0.00</td>\n",
       "      <td>0.00</td>\n",
       "      <td>640.87</td>\n",
       "      <td>854.65</td>\n",
       "      <td>1.01</td>\n",
       "    </tr>\n",
       "    <tr>\n",
       "      <th>bA</th>\n",
       "      <td>0.22</td>\n",
       "      <td>0.06</td>\n",
       "      <td>0.12</td>\n",
       "      <td>0.32</td>\n",
       "      <td>0.00</td>\n",
       "      <td>0.00</td>\n",
       "      <td>2245.98</td>\n",
       "      <td>1371.34</td>\n",
       "      <td>1.00</td>\n",
       "    </tr>\n",
       "    <tr>\n",
       "      <th>alpha[0]</th>\n",
       "      <td>-0.98</td>\n",
       "      <td>0.12</td>\n",
       "      <td>-1.19</td>\n",
       "      <td>-0.77</td>\n",
       "      <td>0.00</td>\n",
       "      <td>0.00</td>\n",
       "      <td>577.36</td>\n",
       "      <td>907.75</td>\n",
       "      <td>1.01</td>\n",
       "    </tr>\n",
       "    <tr>\n",
       "      <th>alpha[1]</th>\n",
       "      <td>-0.47</td>\n",
       "      <td>0.11</td>\n",
       "      <td>-0.69</td>\n",
       "      <td>-0.26</td>\n",
       "      <td>0.00</td>\n",
       "      <td>0.00</td>\n",
       "      <td>549.94</td>\n",
       "      <td>906.76</td>\n",
       "      <td>1.01</td>\n",
       "    </tr>\n",
       "    <tr>\n",
       "      <th>alpha[2]</th>\n",
       "      <td>0.01</td>\n",
       "      <td>0.11</td>\n",
       "      <td>-0.22</td>\n",
       "      <td>0.20</td>\n",
       "      <td>0.00</td>\n",
       "      <td>0.00</td>\n",
       "      <td>543.35</td>\n",
       "      <td>793.82</td>\n",
       "      <td>1.01</td>\n",
       "    </tr>\n",
       "    <tr>\n",
       "      <th>alpha[3]</th>\n",
       "      <td>0.54</td>\n",
       "      <td>0.11</td>\n",
       "      <td>0.33</td>\n",
       "      <td>0.75</td>\n",
       "      <td>0.00</td>\n",
       "      <td>0.00</td>\n",
       "      <td>551.58</td>\n",
       "      <td>825.22</td>\n",
       "      <td>1.01</td>\n",
       "    </tr>\n",
       "    <tr>\n",
       "      <th>alpha[4]</th>\n",
       "      <td>1.10</td>\n",
       "      <td>0.12</td>\n",
       "      <td>0.89</td>\n",
       "      <td>1.34</td>\n",
       "      <td>0.00</td>\n",
       "      <td>0.00</td>\n",
       "      <td>615.48</td>\n",
       "      <td>908.83</td>\n",
       "      <td>1.00</td>\n",
       "    </tr>\n",
       "    <tr>\n",
       "      <th>alpha[5]</th>\n",
       "      <td>1.60</td>\n",
       "      <td>0.13</td>\n",
       "      <td>1.35</td>\n",
       "      <td>1.84</td>\n",
       "      <td>0.00</td>\n",
       "      <td>0.00</td>\n",
       "      <td>692.82</td>\n",
       "      <td>1114.07</td>\n",
       "      <td>1.00</td>\n",
       "    </tr>\n",
       "    <tr>\n",
       "      <th>delta[0]</th>\n",
       "      <td>0.33</td>\n",
       "      <td>0.09</td>\n",
       "      <td>0.17</td>\n",
       "      <td>0.52</td>\n",
       "      <td>0.00</td>\n",
       "      <td>0.00</td>\n",
       "      <td>1718.37</td>\n",
       "      <td>1513.19</td>\n",
       "      <td>1.00</td>\n",
       "    </tr>\n",
       "    <tr>\n",
       "      <th>delta[1]</th>\n",
       "      <td>0.33</td>\n",
       "      <td>0.09</td>\n",
       "      <td>0.16</td>\n",
       "      <td>0.50</td>\n",
       "      <td>0.00</td>\n",
       "      <td>0.00</td>\n",
       "      <td>1412.62</td>\n",
       "      <td>1172.17</td>\n",
       "      <td>1.00</td>\n",
       "    </tr>\n",
       "    <tr>\n",
       "      <th>delta[2]</th>\n",
       "      <td>0.34</td>\n",
       "      <td>0.10</td>\n",
       "      <td>0.18</td>\n",
       "      <td>0.53</td>\n",
       "      <td>0.00</td>\n",
       "      <td>0.00</td>\n",
       "      <td>2587.87</td>\n",
       "      <td>1121.95</td>\n",
       "      <td>1.00</td>\n",
       "    </tr>\n",
       "  </tbody>\n",
       "</table>\n",
       "</div>"
      ],
      "text/plain": [
       "          mean    sd  hdi_3%  hdi_97%  mcse_mean  mcse_sd  ess_bulk  ess_tail  \\\n",
       "bC       -0.03  0.28   -0.55     0.54       0.01     0.01   1986.13   1252.89   \n",
       "bF       -0.26  0.06   -0.38    -0.14       0.00     0.00    640.87    854.65   \n",
       "bA        0.22  0.06    0.12     0.32       0.00     0.00   2245.98   1371.34   \n",
       "alpha[0] -0.98  0.12   -1.19    -0.77       0.00     0.00    577.36    907.75   \n",
       "alpha[1] -0.47  0.11   -0.69    -0.26       0.00     0.00    549.94    906.76   \n",
       "alpha[2]  0.01  0.11   -0.22     0.20       0.00     0.00    543.35    793.82   \n",
       "alpha[3]  0.54  0.11    0.33     0.75       0.00     0.00    551.58    825.22   \n",
       "alpha[4]  1.10  0.12    0.89     1.34       0.00     0.00    615.48    908.83   \n",
       "alpha[5]  1.60  0.13    1.35     1.84       0.00     0.00    692.82   1114.07   \n",
       "delta[0]  0.33  0.09    0.17     0.52       0.00     0.00   1718.37   1513.19   \n",
       "delta[1]  0.33  0.09    0.16     0.50       0.00     0.00   1412.62   1172.17   \n",
       "delta[2]  0.34  0.10    0.18     0.53       0.00     0.00   2587.87   1121.95   \n",
       "\n",
       "          r_hat  \n",
       "bC         1.00  \n",
       "bF         1.01  \n",
       "bA         1.00  \n",
       "alpha[0]   1.01  \n",
       "alpha[1]   1.01  \n",
       "alpha[2]   1.01  \n",
       "alpha[3]   1.01  \n",
       "alpha[4]   1.00  \n",
       "alpha[5]   1.00  \n",
       "delta[0]   1.00  \n",
       "delta[1]   1.00  \n",
       "delta[2]   1.00  "
      ]
     },
     "execution_count": 5,
     "metadata": {},
     "output_type": "execute_result"
    }
   ],
   "source": [
    "# Importing necessary libraries\n",
    "import pymc as pm\n",
    "import pytensor.tensor as pt\n",
    "\n",
    "# Initializing variables from previous simulation\n",
    "A = sim_Age_normalized\n",
    "C = sim_CAEC\n",
    "F = sim_FAF\n",
    "O = sim_OL\n",
    "\n",
    "# Create a Bayesian model using PyMC\n",
    "with pm.Model() as mRXE:\n",
    "    # Defining priors for the alpha coefficients for the 6 categories\n",
    "    alpha = pm.Normal(\n",
    "        \"alpha\",  # Name of the variable\n",
    "        0.0,      # Mean of the normal distribution\n",
    "        1,        # Standard deviation\n",
    "        shape=6,  # Number of categories\n",
    "        testval=np.arange(6),  # Initial test values\n",
    "    )\n",
    "\n",
    "    # Defining priors for the coefficients of Age, CAEC, and FAF\n",
    "    bA = pm.Normal(\"bA\", 0.2, 1)  # Coefficient for Age\n",
    "    bC = pm.Normal(\"bC\", -0.1, 1) # Coefficient for CAEC\n",
    "    bF = pm.Normal(\"bF\", -0.2, 1) # Coefficient for FAF\n",
    "     \n",
    "\n",
    "    \n",
    "    # Defining a Dirichlet distribution for delta\n",
    "    delta = pm.Dirichlet(\"delta\", np.repeat(8.0, 3), shape=3)\n",
    "    delta_j = pt.concatenate([pt.zeros(1), delta])  # Concatenate delta with a leading zero\n",
    "    delta_j_cumulative = pt.extra_ops.cumsum(delta_j)  # Cumulative sum of delta values\n",
    "\n",
    "    # Calculating the predictor phi\n",
    "    phi = bC * delta_j_cumulative[C] + bF * F  + bA * A \n",
    "\n",
    "    # Defining the Ordered Logistic for the observed data\n",
    "    resp_obs = pm.OrderedLogistic(\"resp_obs\", phi, alpha, observed=O)\n",
    "\n",
    "    # Sampling from the posterior distribution\n",
    "    idata_RXE = pm.sample(1000, tune=2000, random_seed=RANDOM_SEED)\n",
    "\n",
    "# Summarizing the posterior distribution of the parameters\n",
    "pm.summary(idata_RXE, var_names=[\"bC\", \"bF\", \"bA\", \"alpha\", \"delta\"], round_to=2)\n"
   ]
  },
  {
   "cell_type": "code",
   "execution_count": 6,
   "metadata": {
    "cell_id": "702372dfa1e546afb5a55c1def146523",
    "deepnote_app_coordinates": {
     "h": 120,
     "w": 12,
     "x": 0,
     "y": 0
    },
    "deepnote_cell_type": "code",
    "deepnote_to_be_reexecuted": false,
    "execution_millis": 40,
    "execution_start": 1702354572523,
    "source_hash": "f0d9e20"
   },
   "outputs": [
    {
     "data": {
      "text/plain": [
       "array([-0.00966306, -0.0133259 , -0.00701105])"
      ]
     },
     "execution_count": 6,
     "metadata": {},
     "output_type": "execute_result"
    }
   ],
   "source": [
    "import numpy as np\n",
    "\n",
    "\n",
    "# Calculating the individual differences\n",
    "individual_differences = np.diff(delta_j_cumulative.eval())\n",
    "bCI=-0.03*individual_differences\n",
    "bCI"
   ]
  },
  {
   "cell_type": "markdown",
   "metadata": {
    "cell_id": "65efd5f1b7174df597e26d103f87a229",
    "deepnote_app_coordinates": {
     "h": 2,
     "w": 8,
     "x": 0,
     "y": 0
    },
    "deepnote_cell_type": "text-cell-p",
    "formattedRanges": []
   },
   "source": [
    "As we can observe:"
   ]
  },
  {
   "cell_type": "markdown",
   "metadata": {
    "cell_id": "753c6e9b8987423ba41b44aab4b203d6",
    "deepnote_app_coordinates": {
     "h": 2,
     "w": 8,
     "x": 0,
     "y": 0
    },
    "deepnote_cell_type": "text-cell-p",
    "formattedRanges": []
   },
   "source": [
    "true beta Age = 0.25, observed beta Age(mean) = 0.22"
   ]
  },
  {
   "cell_type": "markdown",
   "metadata": {
    "cell_id": "21c89a3074654b7681ee92169f0f0596",
    "deepnote_app_coordinates": {
     "h": 2,
     "w": 8,
     "x": 0,
     "y": 0
    },
    "deepnote_cell_type": "text-cell-p",
    "formattedRanges": []
   },
   "source": [
    "-----------------------------------------------------------"
   ]
  },
  {
   "cell_type": "markdown",
   "metadata": {
    "cell_id": "8293a59414334f7291db476e4078369f",
    "deepnote_app_coordinates": {
     "h": 2,
     "w": 8,
     "x": 0,
     "y": 0
    },
    "deepnote_cell_type": "text-cell-p",
    "formattedRanges": []
   },
   "source": [
    "true beta FAF = -0.25, observed beta FAF(mean) = -0.26"
   ]
  },
  {
   "cell_type": "markdown",
   "metadata": {
    "cell_id": "6566b5153534443fac0105c5a43e6ea4",
    "deepnote_app_coordinates": {
     "h": 2,
     "w": 8,
     "x": 0,
     "y": 0
    },
    "deepnote_cell_type": "text-cell-p",
    "formattedRanges": []
   },
   "source": [
    "-----------------------------------------------------------"
   ]
  },
  {
   "cell_type": "markdown",
   "metadata": {
    "cell_id": "7957ddff515c4df2baf6fad89e6960fb",
    "deepnote_app_coordinates": {
     "h": 2,
     "w": 8,
     "x": 0,
     "y": 0
    },
    "deepnote_cell_type": "text-cell-p",
    "formattedRanges": []
   },
   "source": [
    "true beta CAEC values are an array of :- [-0.05, -0.1, -0.15, -0.2]"
   ]
  },
  {
   "cell_type": "markdown",
   "metadata": {
    "cell_id": "72312cae93a54783abf6e8985920b5f5",
    "deepnote_app_coordinates": {
     "h": 2,
     "w": 8,
     "x": 0,
     "y": 0
    },
    "deepnote_cell_type": "text-cell-p",
    "formattedRanges": []
   },
   "source": [
    "observed beta CAEC value(maximum effect\n",
    " of CEAC) = -0.03 with a standard deviation of 0.28"
   ]
  },
  {
   "cell_type": "markdown",
   "metadata": {
    "cell_id": "38b9c085883e4f10b9ff4f49ff3f4d3e",
    "deepnote_app_coordinates": {
     "h": 2,
     "w": 8,
     "x": 0,
     "y": 0
    },
    "deepnote_cell_type": "text-cell-p",
    "formattedRanges": []
   },
   "source": [
    "For CAEC the bCI values we calculated give us a measure of how changes in the CAEC level  affects the obesity level. Interpreting this with the general sense of our true CAEC values that we had chosen before, this contributes more in the direction of our model being validated."
   ]
  },
  {
   "cell_type": "markdown",
   "metadata": {
    "cell_id": "a52f672590814a08bb3c416f4a96088f",
    "deepnote_app_coordinates": {
     "h": 2,
     "w": 8,
     "x": 0,
     "y": 0
    },
    "deepnote_cell_type": "text-cell-p",
    "formattedRanges": []
   },
   "source": [
    "-----------------------------------------------------------"
   ]
  },
  {
   "cell_type": "markdown",
   "metadata": {
    "cell_id": "001893e0c61b4efd83fa8eaa6525b3bd",
    "deepnote_app_coordinates": {
     "h": 2,
     "w": 8,
     "x": 0,
     "y": 0
    },
    "deepnote_cell_type": "text-cell-p",
    "formattedRanges": []
   },
   "source": [
    "Thus the beta values after running the simulated data on our model and sampling its posterior values are close to the known true beta values we consider at the start."
   ]
  },
  {
   "cell_type": "markdown",
   "metadata": {
    "cell_id": "3b99bc1b108f4417a5b774fdb45d500d",
    "deepnote_app_coordinates": {
     "h": 2,
     "w": 8,
     "x": 0,
     "y": 0
    },
    "deepnote_cell_type": "text-cell-p",
    "formattedRanges": []
   },
   "source": [
    "Thus we can strongly say that our model is now validated."
   ]
  },
  {
   "cell_type": "markdown",
   "metadata": {
    "cell_id": "9ec924e13d274911881864566013e808",
    "deepnote_app_coordinates": {
     "h": 2,
     "w": 8,
     "x": 0,
     "y": 0
    },
    "deepnote_cell_type": "text-cell-p",
    "formattedRanges": []
   },
   "source": [
    "------------------------------------------------------------"
   ]
  },
  {
   "cell_type": "markdown",
   "metadata": {
    "cell_id": "94a1d01d4a5f449b9a43769fcf435cf9",
    "deepnote_app_coordinates": {
     "h": 2,
     "w": 8,
     "x": 0,
     "y": 0
    },
    "deepnote_cell_type": "text-cell-p",
    "formattedRanges": []
   },
   "source": []
  },
  {
   "cell_type": "markdown",
   "metadata": {
    "cell_id": "473c36c5eb944120bb6856904c15858e",
    "deepnote_app_coordinates": {
     "h": 2,
     "w": 8,
     "x": 0,
     "y": 0
    },
    "deepnote_cell_type": "text-cell-p",
    "formattedRanges": []
   },
   "source": []
  },
  {
   "cell_type": "markdown",
   "metadata": {
    "cell_id": "229c27ac05734a3d9b5d30ec257c7482",
    "deepnote_app_coordinates": {
     "h": 120,
     "w": 12,
     "x": 0,
     "y": 0
    },
    "deepnote_cell_type": "text-cell-h1",
    "formattedRanges": []
   },
   "source": [
    "# 5) Analyze the real data\n"
   ]
  },
  {
   "cell_type": "markdown",
   "metadata": {
    "cell_id": "05029cea9de8498dacb1db6ff750d43b",
    "deepnote_app_coordinates": {
     "h": 2,
     "w": 8,
     "x": 0,
     "y": 0
    },
    "deepnote_cell_type": "text-cell-p",
    "formattedRanges": []
   },
   "source": [
    "Read the clean real data"
   ]
  },
  {
   "cell_type": "code",
   "execution_count": 7,
   "metadata": {
    "cell_id": "8a202918b3a94849a52603ca1dc5e2d6",
    "deepnote_app_coordinates": {
     "h": 120,
     "w": 12,
     "x": 0,
     "y": 0
    },
    "deepnote_cell_type": "code",
    "deepnote_to_be_reexecuted": false,
    "execution_millis": 5352,
    "execution_start": 1702354572576,
    "source_hash": "67a62e53"
   },
   "outputs": [
    {
     "name": "stdout",
     "output_type": "stream",
     "text": [
      "Requirement already satisfied: pymc in /root/venv/lib/python3.9/site-packages (5.10.1)\n",
      "Requirement already satisfied: numpy>=1.15.0 in /shared-libs/python3.9/py/lib/python3.9/site-packages (from pymc) (1.23.4)\n",
      "Requirement already satisfied: typing-extensions>=3.7.4 in /shared-libs/python3.9/py/lib/python3.9/site-packages (from pymc) (4.4.0)\n",
      "Requirement already satisfied: cachetools>=4.2.1 in /shared-libs/python3.9/py/lib/python3.9/site-packages (from pymc) (5.2.0)\n",
      "Requirement already satisfied: pytensor<2.19,>=2.18.1 in /root/venv/lib/python3.9/site-packages (from pymc) (2.18.3)\n",
      "Requirement already satisfied: fastprogress>=0.2.0 in /root/venv/lib/python3.9/site-packages (from pymc) (1.0.3)\n",
      "Requirement already satisfied: cloudpickle in /root/venv/lib/python3.9/site-packages (from pymc) (3.0.0)\n",
      "Requirement already satisfied: arviz>=0.13.0 in /root/venv/lib/python3.9/site-packages (from pymc) (0.16.1)\n",
      "Requirement already satisfied: pandas>=0.24.0 in /root/venv/lib/python3.9/site-packages (from pymc) (2.1.4)\n",
      "Requirement already satisfied: scipy>=1.4.1 in /shared-libs/python3.9/py/lib/python3.9/site-packages (from pymc) (1.9.3)\n",
      "Requirement already satisfied: xarray>=0.21.0 in /root/venv/lib/python3.9/site-packages (from arviz>=0.13.0->pymc) (2023.12.0)\n",
      "Requirement already satisfied: xarray-einstats>=0.3 in /root/venv/lib/python3.9/site-packages (from arviz>=0.13.0->pymc) (0.6.0)\n",
      "Requirement already satisfied: packaging in /shared-libs/python3.9/py-core/lib/python3.9/site-packages (from arviz>=0.13.0->pymc) (21.3)\n",
      "Requirement already satisfied: matplotlib>=3.2 in /shared-libs/python3.9/py/lib/python3.9/site-packages (from arviz>=0.13.0->pymc) (3.6.0)\n",
      "Requirement already satisfied: setuptools>=60.0.0 in /root/venv/lib/python3.9/site-packages (from arviz>=0.13.0->pymc) (69.0.2)\n",
      "Requirement already satisfied: h5netcdf>=1.0.2 in /root/venv/lib/python3.9/site-packages (from arviz>=0.13.0->pymc) (1.3.0)\n",
      "Requirement already satisfied: pytz>=2020.1 in /shared-libs/python3.9/py/lib/python3.9/site-packages (from pandas>=0.24.0->pymc) (2022.5)\n",
      "Requirement already satisfied: python-dateutil>=2.8.2 in /shared-libs/python3.9/py-core/lib/python3.9/site-packages (from pandas>=0.24.0->pymc) (2.8.2)\n",
      "Requirement already satisfied: tzdata>=2022.1 in /shared-libs/python3.9/py/lib/python3.9/site-packages (from pandas>=0.24.0->pymc) (2022.5)\n",
      "Requirement already satisfied: etuples in /root/venv/lib/python3.9/site-packages (from pytensor<2.19,>=2.18.1->pymc) (0.3.9)\n",
      "Requirement already satisfied: cons in /root/venv/lib/python3.9/site-packages (from pytensor<2.19,>=2.18.1->pymc) (0.4.6)\n",
      "Requirement already satisfied: filelock in /shared-libs/python3.9/py/lib/python3.9/site-packages (from pytensor<2.19,>=2.18.1->pymc) (3.8.0)\n",
      "Requirement already satisfied: logical-unification in /root/venv/lib/python3.9/site-packages (from pytensor<2.19,>=2.18.1->pymc) (0.4.6)\n",
      "Requirement already satisfied: miniKanren in /root/venv/lib/python3.9/site-packages (from pytensor<2.19,>=2.18.1->pymc) (1.0.3)\n",
      "Requirement already satisfied: h5py in /shared-libs/python3.9/py/lib/python3.9/site-packages (from h5netcdf>=1.0.2->arviz>=0.13.0->pymc) (3.7.0)\n",
      "Requirement already satisfied: contourpy>=1.0.1 in /shared-libs/python3.9/py/lib/python3.9/site-packages (from matplotlib>=3.2->arviz>=0.13.0->pymc) (1.0.5)\n",
      "Requirement already satisfied: cycler>=0.10 in /shared-libs/python3.9/py/lib/python3.9/site-packages (from matplotlib>=3.2->arviz>=0.13.0->pymc) (0.11.0)\n",
      "Requirement already satisfied: fonttools>=4.22.0 in /shared-libs/python3.9/py/lib/python3.9/site-packages (from matplotlib>=3.2->arviz>=0.13.0->pymc) (4.37.4)\n",
      "Requirement already satisfied: pyparsing>=2.2.1 in /shared-libs/python3.9/py-core/lib/python3.9/site-packages (from matplotlib>=3.2->arviz>=0.13.0->pymc) (3.0.9)\n",
      "Requirement already satisfied: kiwisolver>=1.0.1 in /shared-libs/python3.9/py/lib/python3.9/site-packages (from matplotlib>=3.2->arviz>=0.13.0->pymc) (1.4.4)\n",
      "Requirement already satisfied: pillow>=6.2.0 in /shared-libs/python3.9/py/lib/python3.9/site-packages (from matplotlib>=3.2->arviz>=0.13.0->pymc) (9.2.0)\n",
      "Requirement already satisfied: six>=1.5 in /shared-libs/python3.9/py-core/lib/python3.9/site-packages (from python-dateutil>=2.8.2->pandas>=0.24.0->pymc) (1.16.0)\n",
      "Requirement already satisfied: toolz in /shared-libs/python3.9/py/lib/python3.9/site-packages (from logical-unification->pytensor<2.19,>=2.18.1->pymc) (0.12.0)\n",
      "Requirement already satisfied: multipledispatch in /root/venv/lib/python3.9/site-packages (from logical-unification->pytensor<2.19,>=2.18.1->pymc) (1.0.0)\n",
      "\n",
      "\u001b[1m[\u001b[0m\u001b[34;49mnotice\u001b[0m\u001b[1;39;49m]\u001b[0m\u001b[39;49m A new release of pip is available: \u001b[0m\u001b[31;49m23.0.1\u001b[0m\u001b[39;49m -> \u001b[0m\u001b[32;49m23.3.1\u001b[0m\n",
      "\u001b[1m[\u001b[0m\u001b[34;49mnotice\u001b[0m\u001b[1;39;49m]\u001b[0m\u001b[39;49m To update, run: \u001b[0m\u001b[32;49mpip install --upgrade pip\u001b[0m\n"
     ]
    }
   ],
   "source": [
    "!pip install pymc"
   ]
  },
  {
   "cell_type": "code",
   "execution_count": 8,
   "metadata": {
    "cell_id": "8d9cf33e764142109945662a12e3f850",
    "deepnote_app_coordinates": {
     "h": 120,
     "w": 12,
     "x": 0,
     "y": 0
    },
    "deepnote_cell_type": "code",
    "deepnote_to_be_reexecuted": false,
    "execution_millis": 278,
    "execution_start": 1702354577938,
    "source_hash": "23169f07"
   },
   "outputs": [],
   "source": [
    "import numpy as np\n",
    "import pymc as pm\n",
    "import pandas as pd\n",
    "df = pd.read_csv(\"ObesityDataSet.csv\", sep=\",\")\n",
    "df['CAEC'] = df['CAEC'].replace({'no': 0, 'Sometimes': 1, 'Frequently': 2, 'Always': 3}).astype(int)\n",
    "df['NObeyesdad'] = df['NObeyesdad'].replace({'Insufficient_Weight':0,'Normal_Weight': 1, 'Obesity_Type_I': 2, 'Obesity_Type_II': 3, 'Obesity_Type_III': 4,'Overweight_Level_I':5,'Overweight_Level_II':6})\n",
    "df['Age'] = (df['Age'] - df['Age'].mean()) / df['Age'].std()\n",
    "df['FAF'] = (df['FAF'] - df['FAF'].mean()) / df['FAF'].std()"
   ]
  },
  {
   "cell_type": "markdown",
   "metadata": {
    "cell_id": "013ef0b3eb504eefb2083088505314e2",
    "deepnote_app_coordinates": {
     "h": 120,
     "w": 12,
     "x": 0,
     "y": 0
    },
    "deepnote_cell_type": "text-cell-h2",
    "formattedRanges": []
   },
   "source": [
    "## A) Answering the estimand"
   ]
  },
  {
   "cell_type": "code",
   "execution_count": 9,
   "metadata": {
    "cell_id": "752e243537714f68a120c394c8d13de5",
    "deepnote_app_coordinates": {
     "h": 120,
     "w": 12,
     "x": 0,
     "y": 0
    },
    "deepnote_cell_type": "code",
    "deepnote_table_loading": false,
    "deepnote_table_state": {
     "filters": [],
     "pageIndex": 0,
     "pageSize": 25,
     "sortBy": []
    },
    "deepnote_to_be_reexecuted": false,
    "execution_millis": 487057,
    "execution_start": 1702354578245,
    "source_hash": "e366904e"
   },
   "outputs": [
    {
     "name": "stderr",
     "output_type": "stream",
     "text": [
      "/tmp/ipykernel_86/2459726286.py:14: FutureWarning: The `testval` argument is deprecated; use `initval`.\n",
      "  alpha = pm.Normal(\n",
      "Auto-assigning NUTS sampler...\n",
      "Initializing NUTS using jitter+adapt_diag...\n",
      "Multiprocess sampling (2 chains in 2 jobs)\n",
      "NUTS: [alpha, bA, bC, bF, delta]\n"
     ]
    },
    {
     "data": {
      "text/html": [
       "\n",
       "<style>\n",
       "    /* Turns off some styling */\n",
       "    progress {\n",
       "        /* gets rid of default border in Firefox and Opera. */\n",
       "        border: none;\n",
       "        /* Needs to be in here for Safari polyfill so background images work as expected. */\n",
       "        background-size: auto;\n",
       "    }\n",
       "    progress:not([value]), progress:not([value])::-webkit-progress-bar {\n",
       "        background: repeating-linear-gradient(45deg, #7e7e7e, #7e7e7e 10px, #5c5c5c 10px, #5c5c5c 20px);\n",
       "    }\n",
       "    .progress-bar-interrupted, .progress-bar-interrupted::-webkit-progress-bar {\n",
       "        background: #F44336;\n",
       "    }\n",
       "</style>\n"
      ],
      "text/plain": [
       "<IPython.core.display.HTML object>"
      ]
     },
     "metadata": {},
     "output_type": "display_data"
    },
    {
     "data": {
      "text/html": [
       "\n",
       "    <div>\n",
       "      <progress value='0' class='' max='8000' style='width:300px; height:20px; vertical-align: middle;'></progress>\n",
       "      \n",
       "    </div>\n",
       "    "
      ],
      "text/plain": [
       "<IPython.core.display.HTML object>"
      ]
     },
     "metadata": {},
     "output_type": "display_data"
    },
    {
     "name": "stderr",
     "output_type": "stream",
     "text": [
      "Sampling 2 chains for 2_000 tune and 2_000 draw iterations (4_000 + 4_000 draws total) took 467 seconds.\n",
      "We recommend running at least 4 chains for robust computation of convergence diagnostics\n"
     ]
    },
    {
     "data": {
      "application/vnd.deepnote.dataframe.v3+json": {
       "column_count": 9,
       "columns": [
        {
         "dtype": "float64",
         "name": "mean",
         "stats": {
          "histogram": [
           {
            "bin_end": -2.67,
            "bin_start": -3.1,
            "count": 2
           },
           {
            "bin_end": -2.24,
            "bin_start": -2.67,
            "count": 0
           },
           {
            "bin_end": -1.81,
            "bin_start": -2.24,
            "count": 1
           },
           {
            "bin_end": -1.3800000000000001,
            "bin_start": -1.81,
            "count": 0
           },
           {
            "bin_end": -0.9500000000000002,
            "bin_start": -1.3800000000000001,
            "count": 1
           },
           {
            "bin_end": -0.52,
            "bin_start": -0.9500000000000002,
            "count": 0
           },
           {
            "bin_end": -0.0900000000000003,
            "bin_start": -0.52,
            "count": 2
           },
           {
            "bin_end": 0.33999999999999986,
            "bin_start": -0.0900000000000003,
            "count": 3
           },
           {
            "bin_end": 0.77,
            "bin_start": 0.33999999999999986,
            "count": 2
           },
           {
            "bin_end": 1.2,
            "bin_start": 0.77,
            "count": 1
           }
          ],
          "max": "1.2",
          "min": "-3.1",
          "nan_count": 0,
          "unique_count": 12
         }
        },
        {
         "dtype": "float64",
         "name": "sd",
         "stats": {
          "histogram": [
           {
            "bin_end": 0.048,
            "bin_start": 0.03,
            "count": 4
           },
           {
            "bin_end": 0.066,
            "bin_start": 0.048,
            "count": 1
           },
           {
            "bin_end": 0.08399999999999999,
            "bin_start": 0.066,
            "count": 0
           },
           {
            "bin_end": 0.102,
            "bin_start": 0.08399999999999999,
            "count": 0
           },
           {
            "bin_end": 0.12,
            "bin_start": 0.102,
            "count": 0
           },
           {
            "bin_end": 0.13799999999999998,
            "bin_start": 0.12,
            "count": 0
           },
           {
            "bin_end": 0.156,
            "bin_start": 0.13799999999999998,
            "count": 0
           },
           {
            "bin_end": 0.174,
            "bin_start": 0.156,
            "count": 6
           },
           {
            "bin_end": 0.19199999999999998,
            "bin_start": 0.174,
            "count": 0
           },
           {
            "bin_end": 0.21,
            "bin_start": 0.19199999999999998,
            "count": 1
           }
          ],
          "max": "0.21",
          "min": "0.03",
          "nan_count": 0,
          "unique_count": 6
         }
        },
        {
         "dtype": "float64",
         "name": "hdi_3%",
         "stats": {
          "histogram": [
           {
            "bin_end": -2.9970000000000003,
            "bin_start": -3.43,
            "count": 2
           },
           {
            "bin_end": -2.564,
            "bin_start": -2.9970000000000003,
            "count": 0
           },
           {
            "bin_end": -2.1310000000000002,
            "bin_start": -2.564,
            "count": 1
           },
           {
            "bin_end": -1.6980000000000002,
            "bin_start": -2.1310000000000002,
            "count": 0
           },
           {
            "bin_end": -1.2650000000000001,
            "bin_start": -1.6980000000000002,
            "count": 1
           },
           {
            "bin_end": -0.8320000000000003,
            "bin_start": -1.2650000000000001,
            "count": 0
           },
           {
            "bin_end": -0.399,
            "bin_start": -0.8320000000000003,
            "count": 1
           },
           {
            "bin_end": 0.03399999999999981,
            "bin_start": -0.399,
            "count": 2
           },
           {
            "bin_end": 0.46699999999999964,
            "bin_start": 0.03399999999999981,
            "count": 3
           },
           {
            "bin_end": 0.9,
            "bin_start": 0.46699999999999964,
            "count": 2
           }
          ],
          "max": "0.9",
          "min": "-3.43",
          "nan_count": 0,
          "unique_count": 12
         }
        },
        {
         "dtype": "float64",
         "name": "hdi_97%",
         "stats": {
          "histogram": [
           {
            "bin_end": -2.352,
            "bin_start": -2.78,
            "count": 2
           },
           {
            "bin_end": -1.924,
            "bin_start": -2.352,
            "count": 0
           },
           {
            "bin_end": -1.496,
            "bin_start": -1.924,
            "count": 1
           },
           {
            "bin_end": -1.068,
            "bin_start": -1.496,
            "count": 0
           },
           {
            "bin_end": -0.6400000000000001,
            "bin_start": -1.068,
            "count": 1
           },
           {
            "bin_end": -0.2120000000000002,
            "bin_start": -0.6400000000000001,
            "count": 0
           },
           {
            "bin_end": 0.21599999999999975,
            "bin_start": -0.2120000000000002,
            "count": 3
           },
           {
            "bin_end": 0.6439999999999997,
            "bin_start": 0.21599999999999975,
            "count": 3
           },
           {
            "bin_end": 1.0719999999999996,
            "bin_start": 0.6439999999999997,
            "count": 1
           },
           {
            "bin_end": 1.5,
            "bin_start": 1.0719999999999996,
            "count": 1
           }
          ],
          "max": "1.5",
          "min": "-2.78",
          "nan_count": 0,
          "unique_count": 12
         }
        },
        {
         "dtype": "float64",
         "name": "mcse_mean",
         "stats": {
          "histogram": [
           {
            "bin_end": 0.001,
            "bin_start": 0,
            "count": 5
           },
           {
            "bin_end": 0.002,
            "bin_start": 0.001,
            "count": 0
           },
           {
            "bin_end": 0.003,
            "bin_start": 0.002,
            "count": 0
           },
           {
            "bin_end": 0.004,
            "bin_start": 0.003,
            "count": 0
           },
           {
            "bin_end": 0.005,
            "bin_start": 0.004,
            "count": 0
           },
           {
            "bin_end": 0.006,
            "bin_start": 0.005,
            "count": 0
           },
           {
            "bin_end": 0.007,
            "bin_start": 0.006,
            "count": 0
           },
           {
            "bin_end": 0.008,
            "bin_start": 0.007,
            "count": 0
           },
           {
            "bin_end": 0.009000000000000001,
            "bin_start": 0.008,
            "count": 0
           },
           {
            "bin_end": 0.01,
            "bin_start": 0.009000000000000001,
            "count": 7
           }
          ],
          "max": "0.01",
          "min": "0.0",
          "nan_count": 0,
          "unique_count": 2
         }
        },
        {
         "dtype": "float64",
         "name": "mcse_sd",
         "stats": {
          "histogram": [
           {
            "bin_end": -0.4,
            "bin_start": -0.5,
            "count": 0
           },
           {
            "bin_end": -0.3,
            "bin_start": -0.4,
            "count": 0
           },
           {
            "bin_end": -0.19999999999999996,
            "bin_start": -0.3,
            "count": 0
           },
           {
            "bin_end": -0.09999999999999998,
            "bin_start": -0.19999999999999996,
            "count": 0
           },
           {
            "bin_end": 0,
            "bin_start": -0.09999999999999998,
            "count": 0
           },
           {
            "bin_end": 0.10000000000000009,
            "bin_start": 0,
            "count": 12
           },
           {
            "bin_end": 0.20000000000000007,
            "bin_start": 0.10000000000000009,
            "count": 0
           },
           {
            "bin_end": 0.30000000000000004,
            "bin_start": 0.20000000000000007,
            "count": 0
           },
           {
            "bin_end": 0.4,
            "bin_start": 0.30000000000000004,
            "count": 0
           },
           {
            "bin_end": 0.5,
            "bin_start": 0.4,
            "count": 0
           }
          ],
          "max": "0.0",
          "min": "0.0",
          "nan_count": 0,
          "unique_count": 1
         }
        },
        {
         "dtype": "float64",
         "name": "ess_bulk",
         "stats": {
          "histogram": [
           {
            "bin_end": 1065.316,
            "bin_start": 810.96,
            "count": 7
           },
           {
            "bin_end": 1319.672,
            "bin_start": 1065.316,
            "count": 2
           },
           {
            "bin_end": 1574.028,
            "bin_start": 1319.672,
            "count": 0
           },
           {
            "bin_end": 1828.384,
            "bin_start": 1574.028,
            "count": 0
           },
           {
            "bin_end": 2082.74,
            "bin_start": 1828.384,
            "count": 0
           },
           {
            "bin_end": 2337.096,
            "bin_start": 2082.74,
            "count": 0
           },
           {
            "bin_end": 2591.452,
            "bin_start": 2337.096,
            "count": 0
           },
           {
            "bin_end": 2845.808,
            "bin_start": 2591.452,
            "count": 1
           },
           {
            "bin_end": 3100.1639999999998,
            "bin_start": 2845.808,
            "count": 1
           },
           {
            "bin_end": 3354.52,
            "bin_start": 3100.1639999999998,
            "count": 1
           }
          ],
          "max": "3354.52",
          "min": "810.96",
          "nan_count": 0,
          "unique_count": 12
         }
        },
        {
         "dtype": "float64",
         "name": "ess_tail",
         "stats": {
          "histogram": [
           {
            "bin_end": 1399.564,
            "bin_start": 1244.04,
            "count": 4
           },
           {
            "bin_end": 1555.088,
            "bin_start": 1399.564,
            "count": 3
           },
           {
            "bin_end": 1710.612,
            "bin_start": 1555.088,
            "count": 0
           },
           {
            "bin_end": 1866.136,
            "bin_start": 1710.612,
            "count": 1
           },
           {
            "bin_end": 2021.66,
            "bin_start": 1866.136,
            "count": 1
           },
           {
            "bin_end": 2177.184,
            "bin_start": 2021.66,
            "count": 0
           },
           {
            "bin_end": 2332.708,
            "bin_start": 2177.184,
            "count": 0
           },
           {
            "bin_end": 2488.232,
            "bin_start": 2332.708,
            "count": 0
           },
           {
            "bin_end": 2643.7560000000003,
            "bin_start": 2488.232,
            "count": 1
           },
           {
            "bin_end": 2799.28,
            "bin_start": 2643.7560000000003,
            "count": 2
           }
          ],
          "max": "2799.28",
          "min": "1244.04",
          "nan_count": 0,
          "unique_count": 12
         }
        },
        {
         "dtype": "float64",
         "name": "r_hat",
         "stats": {
          "histogram": [
           {
            "bin_end": 1.001,
            "bin_start": 1,
            "count": 11
           },
           {
            "bin_end": 1.002,
            "bin_start": 1.001,
            "count": 0
           },
           {
            "bin_end": 1.0030000000000001,
            "bin_start": 1.002,
            "count": 0
           },
           {
            "bin_end": 1.004,
            "bin_start": 1.0030000000000001,
            "count": 0
           },
           {
            "bin_end": 1.005,
            "bin_start": 1.004,
            "count": 0
           },
           {
            "bin_end": 1.006,
            "bin_start": 1.005,
            "count": 0
           },
           {
            "bin_end": 1.0070000000000001,
            "bin_start": 1.006,
            "count": 0
           },
           {
            "bin_end": 1.008,
            "bin_start": 1.0070000000000001,
            "count": 0
           },
           {
            "bin_end": 1.009,
            "bin_start": 1.008,
            "count": 0
           },
           {
            "bin_end": 1.01,
            "bin_start": 1.009,
            "count": 1
           }
          ],
          "max": "1.01",
          "min": "1.0",
          "nan_count": 0,
          "unique_count": 2
         }
        },
        {
         "dtype": "object",
         "name": "_deepnote_index_column"
        }
       ],
       "row_count": 12,
       "rows": [
        {
         "_deepnote_index_column": "bC",
         "ess_bulk": 1245.32,
         "ess_tail": 1773.97,
         "hdi_3%": -3.27,
         "hdi_97%": -2.46,
         "mcse_mean": 0.01,
         "mcse_sd": 0,
         "mean": -2.87,
         "r_hat": 1,
         "sd": 0.21
        },
        {
         "_deepnote_index_column": "bF",
         "ess_bulk": 3354.52,
         "ess_tail": 2508.7,
         "hdi_3%": -0.23,
         "hdi_97%": -0.09,
         "mcse_mean": 0,
         "mcse_sd": 0,
         "mean": -0.16,
         "r_hat": 1,
         "sd": 0.04
        },
        {
         "_deepnote_index_column": "bA",
         "ess_bulk": 3082.26,
         "ess_tail": 2799.28,
         "hdi_3%": 0.29,
         "hdi_97%": 0.45,
         "mcse_mean": 0,
         "mcse_sd": 0,
         "mean": 0.37,
         "r_hat": 1,
         "sd": 0.04
        },
        {
         "_deepnote_index_column": "alpha[0]",
         "ess_bulk": 940.69,
         "ess_tail": 1554.01,
         "hdi_3%": -3.43,
         "hdi_97%": -2.78,
         "mcse_mean": 0.01,
         "mcse_sd": 0,
         "mean": -3.1,
         "r_hat": 1,
         "sd": 0.17
        },
        {
         "_deepnote_index_column": "alpha[1]",
         "ess_bulk": 872.51,
         "ess_tail": 1458.82,
         "hdi_3%": -2.26,
         "hdi_97%": -1.65,
         "mcse_mean": 0.01,
         "mcse_sd": 0,
         "mean": -1.97,
         "r_hat": 1,
         "sd": 0.16
        },
        {
         "_deepnote_index_column": "alpha[2]",
         "ess_bulk": 834.09,
         "ess_tail": 1244.04,
         "hdi_3%": -1.34,
         "hdi_97%": -0.75,
         "mcse_mean": 0.01,
         "mcse_sd": 0,
         "mean": -1.04,
         "r_hat": 1,
         "sd": 0.16
        },
        {
         "_deepnote_index_column": "alpha[3]",
         "ess_bulk": 810.96,
         "ess_tail": 1350.21,
         "hdi_3%": -0.71,
         "hdi_97%": -0.13,
         "mcse_mean": 0.01,
         "mcse_sd": 0,
         "mean": -0.4,
         "r_hat": 1.01,
         "sd": 0.16
        },
        {
         "_deepnote_index_column": "alpha[4]",
         "ess_bulk": 816.68,
         "ess_tail": 1384.39,
         "hdi_3%": 0.02,
         "hdi_97%": 0.6,
         "mcse_mean": 0.01,
         "mcse_sd": 0,
         "mean": 0.31,
         "r_hat": 1,
         "sd": 0.16
        },
        {
         "_deepnote_index_column": "alpha[5]",
         "ess_bulk": 862.96,
         "ess_tail": 1377.39,
         "hdi_3%": 0.9,
         "hdi_97%": 1.5,
         "mcse_mean": 0.01,
         "mcse_sd": 0,
         "mean": 1.2,
         "r_hat": 1,
         "sd": 0.16
        },
        {
         "_deepnote_index_column": "delta[0]",
         "ess_bulk": 899.78,
         "ess_tail": 1526.83,
         "hdi_3%": 0.12,
         "hdi_97%": 0.28,
         "mcse_mean": 0,
         "mcse_sd": 0,
         "mean": 0.21,
         "r_hat": 1,
         "sd": 0.04
        },
        {
         "_deepnote_index_column": "delta[1]",
         "ess_bulk": 1219.6,
         "ess_tail": 1991.82,
         "hdi_3%": 0.62,
         "hdi_97%": 0.8,
         "mcse_mean": 0,
         "mcse_sd": 0,
         "mean": 0.7,
         "r_hat": 1,
         "sd": 0.05
        },
        {
         "_deepnote_index_column": "delta[2]",
         "ess_bulk": 2771.51,
         "ess_tail": 2684.93,
         "hdi_3%": 0.04,
         "hdi_97%": 0.14,
         "mcse_mean": 0,
         "mcse_sd": 0,
         "mean": 0.09,
         "r_hat": 1,
         "sd": 0.03
        }
       ]
      },
      "text/html": [
       "<div>\n",
       "<style scoped>\n",
       "    .dataframe tbody tr th:only-of-type {\n",
       "        vertical-align: middle;\n",
       "    }\n",
       "\n",
       "    .dataframe tbody tr th {\n",
       "        vertical-align: top;\n",
       "    }\n",
       "\n",
       "    .dataframe thead th {\n",
       "        text-align: right;\n",
       "    }\n",
       "</style>\n",
       "<table border=\"1\" class=\"dataframe\">\n",
       "  <thead>\n",
       "    <tr style=\"text-align: right;\">\n",
       "      <th></th>\n",
       "      <th>mean</th>\n",
       "      <th>sd</th>\n",
       "      <th>hdi_3%</th>\n",
       "      <th>hdi_97%</th>\n",
       "      <th>mcse_mean</th>\n",
       "      <th>mcse_sd</th>\n",
       "      <th>ess_bulk</th>\n",
       "      <th>ess_tail</th>\n",
       "      <th>r_hat</th>\n",
       "    </tr>\n",
       "  </thead>\n",
       "  <tbody>\n",
       "    <tr>\n",
       "      <th>bC</th>\n",
       "      <td>-2.87</td>\n",
       "      <td>0.21</td>\n",
       "      <td>-3.27</td>\n",
       "      <td>-2.46</td>\n",
       "      <td>0.01</td>\n",
       "      <td>0.0</td>\n",
       "      <td>1245.32</td>\n",
       "      <td>1773.97</td>\n",
       "      <td>1.00</td>\n",
       "    </tr>\n",
       "    <tr>\n",
       "      <th>bF</th>\n",
       "      <td>-0.16</td>\n",
       "      <td>0.04</td>\n",
       "      <td>-0.23</td>\n",
       "      <td>-0.09</td>\n",
       "      <td>0.00</td>\n",
       "      <td>0.0</td>\n",
       "      <td>3354.52</td>\n",
       "      <td>2508.70</td>\n",
       "      <td>1.00</td>\n",
       "    </tr>\n",
       "    <tr>\n",
       "      <th>bA</th>\n",
       "      <td>0.37</td>\n",
       "      <td>0.04</td>\n",
       "      <td>0.29</td>\n",
       "      <td>0.45</td>\n",
       "      <td>0.00</td>\n",
       "      <td>0.0</td>\n",
       "      <td>3082.26</td>\n",
       "      <td>2799.28</td>\n",
       "      <td>1.00</td>\n",
       "    </tr>\n",
       "    <tr>\n",
       "      <th>alpha[0]</th>\n",
       "      <td>-3.10</td>\n",
       "      <td>0.17</td>\n",
       "      <td>-3.43</td>\n",
       "      <td>-2.78</td>\n",
       "      <td>0.01</td>\n",
       "      <td>0.0</td>\n",
       "      <td>940.69</td>\n",
       "      <td>1554.01</td>\n",
       "      <td>1.00</td>\n",
       "    </tr>\n",
       "    <tr>\n",
       "      <th>alpha[1]</th>\n",
       "      <td>-1.97</td>\n",
       "      <td>0.16</td>\n",
       "      <td>-2.26</td>\n",
       "      <td>-1.65</td>\n",
       "      <td>0.01</td>\n",
       "      <td>0.0</td>\n",
       "      <td>872.51</td>\n",
       "      <td>1458.82</td>\n",
       "      <td>1.00</td>\n",
       "    </tr>\n",
       "    <tr>\n",
       "      <th>alpha[2]</th>\n",
       "      <td>-1.04</td>\n",
       "      <td>0.16</td>\n",
       "      <td>-1.34</td>\n",
       "      <td>-0.75</td>\n",
       "      <td>0.01</td>\n",
       "      <td>0.0</td>\n",
       "      <td>834.09</td>\n",
       "      <td>1244.04</td>\n",
       "      <td>1.00</td>\n",
       "    </tr>\n",
       "    <tr>\n",
       "      <th>alpha[3]</th>\n",
       "      <td>-0.40</td>\n",
       "      <td>0.16</td>\n",
       "      <td>-0.71</td>\n",
       "      <td>-0.13</td>\n",
       "      <td>0.01</td>\n",
       "      <td>0.0</td>\n",
       "      <td>810.96</td>\n",
       "      <td>1350.21</td>\n",
       "      <td>1.01</td>\n",
       "    </tr>\n",
       "    <tr>\n",
       "      <th>alpha[4]</th>\n",
       "      <td>0.31</td>\n",
       "      <td>0.16</td>\n",
       "      <td>0.02</td>\n",
       "      <td>0.60</td>\n",
       "      <td>0.01</td>\n",
       "      <td>0.0</td>\n",
       "      <td>816.68</td>\n",
       "      <td>1384.39</td>\n",
       "      <td>1.00</td>\n",
       "    </tr>\n",
       "    <tr>\n",
       "      <th>alpha[5]</th>\n",
       "      <td>1.20</td>\n",
       "      <td>0.16</td>\n",
       "      <td>0.90</td>\n",
       "      <td>1.50</td>\n",
       "      <td>0.01</td>\n",
       "      <td>0.0</td>\n",
       "      <td>862.96</td>\n",
       "      <td>1377.39</td>\n",
       "      <td>1.00</td>\n",
       "    </tr>\n",
       "    <tr>\n",
       "      <th>delta[0]</th>\n",
       "      <td>0.21</td>\n",
       "      <td>0.04</td>\n",
       "      <td>0.12</td>\n",
       "      <td>0.28</td>\n",
       "      <td>0.00</td>\n",
       "      <td>0.0</td>\n",
       "      <td>899.78</td>\n",
       "      <td>1526.83</td>\n",
       "      <td>1.00</td>\n",
       "    </tr>\n",
       "    <tr>\n",
       "      <th>delta[1]</th>\n",
       "      <td>0.70</td>\n",
       "      <td>0.05</td>\n",
       "      <td>0.62</td>\n",
       "      <td>0.80</td>\n",
       "      <td>0.00</td>\n",
       "      <td>0.0</td>\n",
       "      <td>1219.60</td>\n",
       "      <td>1991.82</td>\n",
       "      <td>1.00</td>\n",
       "    </tr>\n",
       "    <tr>\n",
       "      <th>delta[2]</th>\n",
       "      <td>0.09</td>\n",
       "      <td>0.03</td>\n",
       "      <td>0.04</td>\n",
       "      <td>0.14</td>\n",
       "      <td>0.00</td>\n",
       "      <td>0.0</td>\n",
       "      <td>2771.51</td>\n",
       "      <td>2684.93</td>\n",
       "      <td>1.00</td>\n",
       "    </tr>\n",
       "  </tbody>\n",
       "</table>\n",
       "</div>"
      ],
      "text/plain": [
       "          mean    sd  hdi_3%  hdi_97%  mcse_mean  mcse_sd  ess_bulk  ess_tail  \\\n",
       "bC       -2.87  0.21   -3.27    -2.46       0.01      0.0   1245.32   1773.97   \n",
       "bF       -0.16  0.04   -0.23    -0.09       0.00      0.0   3354.52   2508.70   \n",
       "bA        0.37  0.04    0.29     0.45       0.00      0.0   3082.26   2799.28   \n",
       "alpha[0] -3.10  0.17   -3.43    -2.78       0.01      0.0    940.69   1554.01   \n",
       "alpha[1] -1.97  0.16   -2.26    -1.65       0.01      0.0    872.51   1458.82   \n",
       "alpha[2] -1.04  0.16   -1.34    -0.75       0.01      0.0    834.09   1244.04   \n",
       "alpha[3] -0.40  0.16   -0.71    -0.13       0.01      0.0    810.96   1350.21   \n",
       "alpha[4]  0.31  0.16    0.02     0.60       0.01      0.0    816.68   1384.39   \n",
       "alpha[5]  1.20  0.16    0.90     1.50       0.01      0.0    862.96   1377.39   \n",
       "delta[0]  0.21  0.04    0.12     0.28       0.00      0.0    899.78   1526.83   \n",
       "delta[1]  0.70  0.05    0.62     0.80       0.00      0.0   1219.60   1991.82   \n",
       "delta[2]  0.09  0.03    0.04     0.14       0.00      0.0   2771.51   2684.93   \n",
       "\n",
       "          r_hat  \n",
       "bC         1.00  \n",
       "bF         1.00  \n",
       "bA         1.00  \n",
       "alpha[0]   1.00  \n",
       "alpha[1]   1.00  \n",
       "alpha[2]   1.00  \n",
       "alpha[3]   1.01  \n",
       "alpha[4]   1.00  \n",
       "alpha[5]   1.00  \n",
       "delta[0]   1.00  \n",
       "delta[1]   1.00  \n",
       "delta[2]   1.00  "
      ]
     },
     "execution_count": 9,
     "metadata": {},
     "output_type": "execute_result"
    }
   ],
   "source": [
    "# Importing necessary libraries\n",
    "import pymc as pm\n",
    "import pytensor.tensor as pt\n",
    "\n",
    "RANDOM_SEED = 8927\n",
    "\n",
    "A = df['Age']\n",
    "C = df['CAEC']\n",
    "F = df['FAF']\n",
    "O = df['NObeyesdad']\n",
    "\n",
    "with pm.Model() as mRXE:\n",
    "    alpha = pm.Normal(\n",
    "        \"alpha\",\n",
    "        0.0,\n",
    "        1,\n",
    "        shape=6,\n",
    "        testval=np.arange(6),\n",
    "    )\n",
    "    bA = pm.Normal(\"bA\", 0.2, 1) \n",
    "    bC = pm.Normal(\"bC\", -0.1, 1) \n",
    "    bF = pm.Normal(\"bF\", -0.2, 1)\n",
    "    \n",
    "    delta = pm.Dirichlet(\"delta\", np.repeat(8.0, 3), shape=3)\n",
    "    delta_j = pt.concatenate([pt.zeros(1), delta])\n",
    "    delta_j_cumulative = pt.extra_ops.cumsum(delta_j)\n",
    "    \n",
    "    phi = bC * delta_j_cumulative[C] + bF * F  + bA * A \n",
    "    resp_obs = pm.OrderedLogistic(\"resp_obs\", phi, alpha, observed=O)\n",
    "    idata_RXE = pm.sample(2000, tune=2000, random_seed=RANDOM_SEED)\n",
    "pm.summary(idata_RXE, var_names=[\"bC\", \"bF\", \"bA\", \"alpha\", \"delta\"], round_to=2)"
   ]
  },
  {
   "cell_type": "code",
   "execution_count": 10,
   "metadata": {
    "cell_id": "fb064e23164d4120b354cf646501159a",
    "deepnote_app_coordinates": {
     "h": 120,
     "w": 12,
     "x": 0,
     "y": 0
    },
    "deepnote_cell_type": "code",
    "deepnote_to_be_reexecuted": false,
    "execution_millis": 44,
    "execution_start": 1702355065313,
    "source_hash": "8c7fc70a"
   },
   "outputs": [
    {
     "data": {
      "text/plain": [
       "array([-1.1447752 , -0.78031884, -0.94490597])"
      ]
     },
     "execution_count": 10,
     "metadata": {},
     "output_type": "execute_result"
    }
   ],
   "source": [
    "import numpy as np\n",
    "\n",
    "\n",
    "# Calculating the individual differences\n",
    "individual_differences = np.diff(delta_j_cumulative.eval())\n",
    "bCI=-2.87*individual_differences\n",
    "bCI"
   ]
  },
  {
   "cell_type": "markdown",
   "metadata": {
    "cell_id": "c0fa053cc130422d9cc29242b3ef98fb",
    "deepnote_app_coordinates": {
     "h": 2,
     "w": 8,
     "x": 0,
     "y": 0
    },
    "deepnote_cell_type": "text-cell-p",
    "formattedRanges": []
   },
   "source": [
    "bC: maximum effect\n",
    " of CEAC"
   ]
  },
  {
   "cell_type": "markdown",
   "metadata": {
    "cell_id": "cd8727e174d64f12b3026646bc323e68",
    "deepnote_app_coordinates": {
     "h": 2,
     "w": 8,
     "x": 0,
     "y": 0
    },
    "deepnote_cell_type": "text-cell-p",
    "formattedRanges": []
   },
   "source": [
    "For CAEC the bCI values we calculated give us a measure of how changes in the CAEC level  affects the change in obesity level. as we can see there is a negative correlation so an increase in CAEC level (healthy food between meals) reduces the chances of being in higher obesity levels. The exact values of bCI give us a measure of how much effect is happening across different category changes. "
   ]
  },
  {
   "cell_type": "markdown",
   "metadata": {
    "cell_id": "b041e64f9c7945e9b8a2c00834315468",
    "deepnote_app_coordinates": {
     "h": 2,
     "w": 8,
     "x": 0,
     "y": 0
    },
    "deepnote_cell_type": "text-cell-p",
    "formattedRanges": []
   },
   "source": [
    "bF: Higher physical activity frequency is associated with lower log-odds of higher obesity levels."
   ]
  },
  {
   "cell_type": "markdown",
   "metadata": {
    "cell_id": "26f48b62b4694e4f95d5b3bb9898e85f",
    "deepnote_app_coordinates": {
     "h": 2,
     "w": 8,
     "x": 0,
     "y": 0
    },
    "deepnote_cell_type": "text-cell-p",
    "formattedRanges": []
   },
   "source": [
    "bA: As age increases, the log-odds of higher obesity levels also increase."
   ]
  },
  {
   "cell_type": "markdown",
   "metadata": {
    "cell_id": "493e7d986447476b8a2226ba6aae15c3",
    "deepnote_app_coordinates": {
     "h": 2,
     "w": 8,
     "x": 0,
     "y": 0
    },
    "deepnote_cell_type": "text-cell-p",
    "formattedRanges": []
   },
   "source": [
    "So from this we can conclude that an increase in age correlates to an increase in obesity level. "
   ]
  },
  {
   "cell_type": "markdown",
   "metadata": {
    "cell_id": "b7091fe87d7d46988f034c42d2efc3e0",
    "deepnote_app_coordinates": {
     "h": 2,
     "w": 8,
     "x": 0,
     "y": 0
    },
    "deepnote_cell_type": "text-cell-p",
    "formattedRanges": []
   },
   "source": [
    "-------------------------------------------------------------------------------"
   ]
  },
  {
   "cell_type": "markdown",
   "metadata": {
    "cell_id": "5c6638541eb04abcb762fb5305cee1f0",
    "deepnote_app_coordinates": {
     "h": 2,
     "w": 8,
     "x": 0,
     "y": 0
    },
    "deepnote_cell_type": "text-cell-p",
    "formattedRanges": []
   },
   "source": [
    "Answering the question our estimand is asking ,we can say that,"
   ]
  },
  {
   "cell_type": "markdown",
   "metadata": {
    "cell_id": "4a826428338f4979aac7d1e2fa234c6d",
    "deepnote_app_coordinates": {
     "h": 2,
     "w": 8,
     "x": 0,
     "y": 0
    },
    "deepnote_cell_type": "text-cell-p",
    "formattedRanges": []
   },
   "source": [
    "behavioral factor(FAF)(Physical activity frequency) correlates negatively to an increase in obesity level. "
   ]
  },
  {
   "cell_type": "markdown",
   "metadata": {
    "cell_id": "8efa897b2f96465b9f1d62cc5926483d",
    "deepnote_app_coordinates": {
     "h": 2,
     "w": 8,
     "x": 0,
     "y": 0
    },
    "deepnote_cell_type": "text-cell-p",
    "formattedRanges": []
   },
   "source": [
    "And the lifestyle factor(CAEC)(Consumption of food between meals) correlates negatively to an increase in obesity level."
   ]
  },
  {
   "cell_type": "markdown",
   "metadata": {
    "cell_id": "12313948567843178e8155472f662248",
    "deepnote_app_coordinates": {
     "h": 2,
     "w": 8,
     "x": 0,
     "y": 0
    },
    "deepnote_cell_type": "text-cell-p",
    "formattedRanges": []
   },
   "source": [
    "Based on this, our policy recommendation would be that an increase in physical activity and consumption of healthy foods between meals should be strongly advocated so that we can reduce the obesity problem."
   ]
  },
  {
   "cell_type": "markdown",
   "metadata": {
    "cell_id": "45b38f42d4c74a2ba1f85aabcebd36d6",
    "deepnote_app_coordinates": {
     "h": 2,
     "w": 8,
     "x": 0,
     "y": 0
    },
    "deepnote_cell_type": "text-cell-p",
    "formattedRanges": []
   },
   "source": [
    "-------------------------------------------------------------------------------"
   ]
  },
  {
   "cell_type": "markdown",
   "metadata": {
    "cell_id": "3ce983505aab4a3e95574745ddf68b31",
    "deepnote_app_coordinates": {
     "h": 120,
     "w": 12,
     "x": 0,
     "y": 0
    },
    "deepnote_cell_type": "text-cell-h3",
    "formattedRanges": []
   },
   "source": [
    "### B) Performing additional analysis"
   ]
  },
  {
   "cell_type": "markdown",
   "metadata": {
    "cell_id": "cd4f56caf6d24fc080faadaf202fbb22",
    "deepnote_app_coordinates": {
     "h": 2,
     "w": 8,
     "x": 0,
     "y": 0
    },
    "deepnote_cell_type": "text-cell-p",
    "formattedRanges": []
   },
   "source": [
    "Total effect of Age on Obesity Level."
   ]
  },
  {
   "cell_type": "code",
   "execution_count": 11,
   "metadata": {
    "cell_id": "48d41382050f4f218971f6062b13f79c",
    "deepnote_app_coordinates": {
     "h": 120,
     "w": 12,
     "x": 0,
     "y": 0
    },
    "deepnote_cell_type": "code",
    "deepnote_table_loading": false,
    "deepnote_table_state": {
     "filters": [],
     "pageIndex": 0,
     "pageSize": 25,
     "sortBy": []
    },
    "deepnote_to_be_reexecuted": false,
    "execution_millis": 159365,
    "execution_start": 1702355065371,
    "source_hash": "6a033f21"
   },
   "outputs": [
    {
     "name": "stderr",
     "output_type": "stream",
     "text": [
      "/tmp/ipykernel_86/3011796243.py:14: FutureWarning: The `testval` argument is deprecated; use `initval`.\n",
      "  alpha = pm.Normal(\n",
      "Auto-assigning NUTS sampler...\n",
      "Initializing NUTS using jitter+adapt_diag...\n",
      "Multiprocess sampling (2 chains in 2 jobs)\n",
      "NUTS: [alpha, bA]\n"
     ]
    },
    {
     "data": {
      "text/html": [
       "\n",
       "<style>\n",
       "    /* Turns off some styling */\n",
       "    progress {\n",
       "        /* gets rid of default border in Firefox and Opera. */\n",
       "        border: none;\n",
       "        /* Needs to be in here for Safari polyfill so background images work as expected. */\n",
       "        background-size: auto;\n",
       "    }\n",
       "    progress:not([value]), progress:not([value])::-webkit-progress-bar {\n",
       "        background: repeating-linear-gradient(45deg, #7e7e7e, #7e7e7e 10px, #5c5c5c 10px, #5c5c5c 20px);\n",
       "    }\n",
       "    .progress-bar-interrupted, .progress-bar-interrupted::-webkit-progress-bar {\n",
       "        background: #F44336;\n",
       "    }\n",
       "</style>\n"
      ],
      "text/plain": [
       "<IPython.core.display.HTML object>"
      ]
     },
     "metadata": {},
     "output_type": "display_data"
    },
    {
     "data": {
      "text/html": [
       "\n",
       "    <div>\n",
       "      <progress value='0' class='' max='8000' style='width:300px; height:20px; vertical-align: middle;'></progress>\n",
       "      \n",
       "    </div>\n",
       "    "
      ],
      "text/plain": [
       "<IPython.core.display.HTML object>"
      ]
     },
     "metadata": {},
     "output_type": "display_data"
    },
    {
     "name": "stderr",
     "output_type": "stream",
     "text": [
      "Sampling 2 chains for 2_000 tune and 2_000 draw iterations (4_000 + 4_000 draws total) took 148 seconds.\n",
      "We recommend running at least 4 chains for robust computation of convergence diagnostics\n"
     ]
    },
    {
     "data": {
      "application/vnd.deepnote.dataframe.v3+json": {
       "column_count": 9,
       "columns": [
        {
         "dtype": "float64",
         "name": "mean",
         "stats": {
          "histogram": [
           {
            "bin_end": -1.5739999999999998,
            "bin_start": -1.96,
            "count": 1
           },
           {
            "bin_end": -1.188,
            "bin_start": -1.5739999999999998,
            "count": 0
           },
           {
            "bin_end": -0.802,
            "bin_start": -1.188,
            "count": 1
           },
           {
            "bin_end": -0.4159999999999999,
            "bin_start": -0.802,
            "count": 0
           },
           {
            "bin_end": -0.029999999999999805,
            "bin_start": -0.4159999999999999,
            "count": 1
           },
           {
            "bin_end": 0.35599999999999987,
            "bin_start": -0.029999999999999805,
            "count": 1
           },
           {
            "bin_end": 0.742,
            "bin_start": 0.35599999999999987,
            "count": 1
           },
           {
            "bin_end": 1.1280000000000001,
            "bin_start": 0.742,
            "count": 1
           },
           {
            "bin_end": 1.5140000000000002,
            "bin_start": 1.1280000000000001,
            "count": 0
           },
           {
            "bin_end": 1.9,
            "bin_start": 1.5140000000000002,
            "count": 1
           }
          ],
          "max": "1.9",
          "min": "-1.96",
          "nan_count": 0,
          "unique_count": 7
         }
        },
        {
         "dtype": "float64",
         "name": "sd",
         "stats": {
          "histogram": [
           {
            "bin_end": 0.043000000000000003,
            "bin_start": 0.04,
            "count": 2
           },
           {
            "bin_end": 0.046,
            "bin_start": 0.043000000000000003,
            "count": 0
           },
           {
            "bin_end": 0.049,
            "bin_start": 0.046,
            "count": 0
           },
           {
            "bin_end": 0.052000000000000005,
            "bin_start": 0.049,
            "count": 3
           },
           {
            "bin_end": 0.05500000000000001,
            "bin_start": 0.052000000000000005,
            "count": 0
           },
           {
            "bin_end": 0.058,
            "bin_start": 0.05500000000000001,
            "count": 0
           },
           {
            "bin_end": 0.061000000000000006,
            "bin_start": 0.058,
            "count": 1
           },
           {
            "bin_end": 0.064,
            "bin_start": 0.061000000000000006,
            "count": 0
           },
           {
            "bin_end": 0.067,
            "bin_start": 0.064,
            "count": 0
           },
           {
            "bin_end": 0.07,
            "bin_start": 0.067,
            "count": 1
           }
          ],
          "max": "0.07",
          "min": "0.04",
          "nan_count": 0,
          "unique_count": 4
         }
        },
        {
         "dtype": "float64",
         "name": "hdi_3%",
         "stats": {
          "histogram": [
           {
            "bin_end": -1.694,
            "bin_start": -2.08,
            "count": 1
           },
           {
            "bin_end": -1.308,
            "bin_start": -1.694,
            "count": 0
           },
           {
            "bin_end": -0.9220000000000002,
            "bin_start": -1.308,
            "count": 1
           },
           {
            "bin_end": -0.536,
            "bin_start": -0.9220000000000002,
            "count": 0
           },
           {
            "bin_end": -0.1499999999999999,
            "bin_start": -0.536,
            "count": 1
           },
           {
            "bin_end": 0.23599999999999977,
            "bin_start": -0.1499999999999999,
            "count": 0
           },
           {
            "bin_end": 0.6219999999999999,
            "bin_start": 0.23599999999999977,
            "count": 2
           },
           {
            "bin_end": 1.008,
            "bin_start": 0.6219999999999999,
            "count": 1
           },
           {
            "bin_end": 1.3940000000000001,
            "bin_start": 1.008,
            "count": 0
           },
           {
            "bin_end": 1.78,
            "bin_start": 1.3940000000000001,
            "count": 1
           }
          ],
          "max": "1.78",
          "min": "-2.08",
          "nan_count": 0,
          "unique_count": 7
         }
        },
        {
         "dtype": "float64",
         "name": "hdi_97%",
         "stats": {
          "histogram": [
           {
            "bin_end": -1.4460000000000002,
            "bin_start": -1.83,
            "count": 1
           },
           {
            "bin_end": -1.062,
            "bin_start": -1.4460000000000002,
            "count": 0
           },
           {
            "bin_end": -0.6779999999999999,
            "bin_start": -1.062,
            "count": 1
           },
           {
            "bin_end": -0.29400000000000004,
            "bin_start": -0.6779999999999999,
            "count": 0
           },
           {
            "bin_end": 0.08999999999999986,
            "bin_start": -0.29400000000000004,
            "count": 1
           },
           {
            "bin_end": 0.4740000000000002,
            "bin_start": 0.08999999999999986,
            "count": 1
           },
           {
            "bin_end": 0.8580000000000001,
            "bin_start": 0.4740000000000002,
            "count": 1
           },
           {
            "bin_end": 1.242,
            "bin_start": 0.8580000000000001,
            "count": 1
           },
           {
            "bin_end": 1.626,
            "bin_start": 1.242,
            "count": 0
           },
           {
            "bin_end": 2.01,
            "bin_start": 1.626,
            "count": 1
           }
          ],
          "max": "2.01",
          "min": "-1.83",
          "nan_count": 0,
          "unique_count": 7
         }
        },
        {
         "dtype": "float64",
         "name": "mcse_mean",
         "stats": {
          "histogram": [
           {
            "bin_end": -0.4,
            "bin_start": -0.5,
            "count": 0
           },
           {
            "bin_end": -0.3,
            "bin_start": -0.4,
            "count": 0
           },
           {
            "bin_end": -0.19999999999999996,
            "bin_start": -0.3,
            "count": 0
           },
           {
            "bin_end": -0.09999999999999998,
            "bin_start": -0.19999999999999996,
            "count": 0
           },
           {
            "bin_end": 0,
            "bin_start": -0.09999999999999998,
            "count": 0
           },
           {
            "bin_end": 0.10000000000000009,
            "bin_start": 0,
            "count": 7
           },
           {
            "bin_end": 0.20000000000000007,
            "bin_start": 0.10000000000000009,
            "count": 0
           },
           {
            "bin_end": 0.30000000000000004,
            "bin_start": 0.20000000000000007,
            "count": 0
           },
           {
            "bin_end": 0.4,
            "bin_start": 0.30000000000000004,
            "count": 0
           },
           {
            "bin_end": 0.5,
            "bin_start": 0.4,
            "count": 0
           }
          ],
          "max": "0.0",
          "min": "0.0",
          "nan_count": 0,
          "unique_count": 1
         }
        },
        {
         "dtype": "float64",
         "name": "mcse_sd",
         "stats": {
          "histogram": [
           {
            "bin_end": -0.4,
            "bin_start": -0.5,
            "count": 0
           },
           {
            "bin_end": -0.3,
            "bin_start": -0.4,
            "count": 0
           },
           {
            "bin_end": -0.19999999999999996,
            "bin_start": -0.3,
            "count": 0
           },
           {
            "bin_end": -0.09999999999999998,
            "bin_start": -0.19999999999999996,
            "count": 0
           },
           {
            "bin_end": 0,
            "bin_start": -0.09999999999999998,
            "count": 0
           },
           {
            "bin_end": 0.10000000000000009,
            "bin_start": 0,
            "count": 7
           },
           {
            "bin_end": 0.20000000000000007,
            "bin_start": 0.10000000000000009,
            "count": 0
           },
           {
            "bin_end": 0.30000000000000004,
            "bin_start": 0.20000000000000007,
            "count": 0
           },
           {
            "bin_end": 0.4,
            "bin_start": 0.30000000000000004,
            "count": 0
           },
           {
            "bin_end": 0.5,
            "bin_start": 0.4,
            "count": 0
           }
          ],
          "max": "0.0",
          "min": "0.0",
          "nan_count": 0,
          "unique_count": 1
         }
        },
        {
         "dtype": "float64",
         "name": "ess_bulk",
         "stats": {
          "histogram": [
           {
            "bin_end": 1787.5279999999998,
            "bin_start": 1633.37,
            "count": 1
           },
           {
            "bin_end": 1941.686,
            "bin_start": 1787.5279999999998,
            "count": 1
           },
           {
            "bin_end": 2095.844,
            "bin_start": 1941.686,
            "count": 2
           },
           {
            "bin_end": 2250.002,
            "bin_start": 2095.844,
            "count": 0
           },
           {
            "bin_end": 2404.16,
            "bin_start": 2250.002,
            "count": 0
           },
           {
            "bin_end": 2558.3179999999998,
            "bin_start": 2404.16,
            "count": 2
           },
           {
            "bin_end": 2712.4759999999997,
            "bin_start": 2558.3179999999998,
            "count": 0
           },
           {
            "bin_end": 2866.634,
            "bin_start": 2712.4759999999997,
            "count": 0
           },
           {
            "bin_end": 3020.7919999999995,
            "bin_start": 2866.634,
            "count": 0
           },
           {
            "bin_end": 3174.95,
            "bin_start": 3020.7919999999995,
            "count": 1
           }
          ],
          "max": "3174.95",
          "min": "1633.37",
          "nan_count": 0,
          "unique_count": 7
         }
        },
        {
         "dtype": "float64",
         "name": "ess_tail",
         "stats": {
          "histogram": [
           {
            "bin_end": 2148.003,
            "bin_start": 2036.07,
            "count": 1
           },
           {
            "bin_end": 2259.936,
            "bin_start": 2148.003,
            "count": 0
           },
           {
            "bin_end": 2371.869,
            "bin_start": 2259.936,
            "count": 1
           },
           {
            "bin_end": 2483.802,
            "bin_start": 2371.869,
            "count": 1
           },
           {
            "bin_end": 2595.735,
            "bin_start": 2483.802,
            "count": 1
           },
           {
            "bin_end": 2707.668,
            "bin_start": 2595.735,
            "count": 1
           },
           {
            "bin_end": 2819.601,
            "bin_start": 2707.668,
            "count": 0
           },
           {
            "bin_end": 2931.534,
            "bin_start": 2819.601,
            "count": 0
           },
           {
            "bin_end": 3043.467,
            "bin_start": 2931.534,
            "count": 1
           },
           {
            "bin_end": 3155.4,
            "bin_start": 3043.467,
            "count": 1
           }
          ],
          "max": "3155.4",
          "min": "2036.07",
          "nan_count": 0,
          "unique_count": 7
         }
        },
        {
         "dtype": "float64",
         "name": "r_hat",
         "stats": {
          "histogram": [
           {
            "bin_end": 0.6,
            "bin_start": 0.5,
            "count": 0
           },
           {
            "bin_end": 0.7,
            "bin_start": 0.6,
            "count": 0
           },
           {
            "bin_end": 0.8,
            "bin_start": 0.7,
            "count": 0
           },
           {
            "bin_end": 0.9,
            "bin_start": 0.8,
            "count": 0
           },
           {
            "bin_end": 1,
            "bin_start": 0.9,
            "count": 0
           },
           {
            "bin_end": 1.1,
            "bin_start": 1,
            "count": 7
           },
           {
            "bin_end": 1.2000000000000002,
            "bin_start": 1.1,
            "count": 0
           },
           {
            "bin_end": 1.3,
            "bin_start": 1.2000000000000002,
            "count": 0
           },
           {
            "bin_end": 1.4,
            "bin_start": 1.3,
            "count": 0
           },
           {
            "bin_end": 1.5,
            "bin_start": 1.4,
            "count": 0
           }
          ],
          "max": "1.0",
          "min": "1.0",
          "nan_count": 0,
          "unique_count": 1
         }
        },
        {
         "dtype": "object",
         "name": "_deepnote_index_column"
        }
       ],
       "row_count": 7,
       "rows": [
        {
         "_deepnote_index_column": "bA",
         "ess_bulk": 3174.95,
         "ess_tail": 3155.4,
         "hdi_3%": 0.38,
         "hdi_97%": 0.54,
         "mcse_mean": 0,
         "mcse_sd": 0,
         "mean": 0.46,
         "r_hat": 1,
         "sd": 0.04
        },
        {
         "_deepnote_index_column": "alpha[0]",
         "ess_bulk": 2404.65,
         "ess_tail": 2706.43,
         "hdi_3%": -2.08,
         "hdi_97%": -1.83,
         "mcse_mean": 0,
         "mcse_sd": 0,
         "mean": -1.96,
         "r_hat": 1,
         "sd": 0.07
        },
        {
         "_deepnote_index_column": "alpha[1]",
         "ess_bulk": 1952.44,
         "ess_tail": 2288.07,
         "hdi_3%": -1.11,
         "hdi_97%": -0.93,
         "mcse_mean": 0,
         "mcse_sd": 0,
         "mean": -1.02,
         "r_hat": 1,
         "sd": 0.05
        },
        {
         "_deepnote_index_column": "alpha[2]",
         "ess_bulk": 1633.37,
         "ess_tail": 2036.07,
         "hdi_3%": -0.31,
         "hdi_97%": -0.14,
         "mcse_mean": 0,
         "mcse_sd": 0,
         "mean": -0.23,
         "r_hat": 1,
         "sd": 0.04
        },
        {
         "_deepnote_index_column": "alpha[3]",
         "ess_bulk": 1849.85,
         "ess_tail": 2387.57,
         "hdi_3%": 0.25,
         "hdi_97%": 0.42,
         "mcse_mean": 0,
         "mcse_sd": 0,
         "mean": 0.34,
         "r_hat": 1,
         "sd": 0.05
        },
        {
         "_deepnote_index_column": "alpha[4]",
         "ess_bulk": 2037.42,
         "ess_tail": 2558.49,
         "hdi_3%": 0.93,
         "hdi_97%": 1.11,
         "mcse_mean": 0,
         "mcse_sd": 0,
         "mean": 1.01,
         "r_hat": 1,
         "sd": 0.05
        },
        {
         "_deepnote_index_column": "alpha[5]",
         "ess_bulk": 2435.6,
         "ess_tail": 3039.54,
         "hdi_3%": 1.78,
         "hdi_97%": 2.01,
         "mcse_mean": 0,
         "mcse_sd": 0,
         "mean": 1.9,
         "r_hat": 1,
         "sd": 0.06
        }
       ]
      },
      "text/html": [
       "<div>\n",
       "<style scoped>\n",
       "    .dataframe tbody tr th:only-of-type {\n",
       "        vertical-align: middle;\n",
       "    }\n",
       "\n",
       "    .dataframe tbody tr th {\n",
       "        vertical-align: top;\n",
       "    }\n",
       "\n",
       "    .dataframe thead th {\n",
       "        text-align: right;\n",
       "    }\n",
       "</style>\n",
       "<table border=\"1\" class=\"dataframe\">\n",
       "  <thead>\n",
       "    <tr style=\"text-align: right;\">\n",
       "      <th></th>\n",
       "      <th>mean</th>\n",
       "      <th>sd</th>\n",
       "      <th>hdi_3%</th>\n",
       "      <th>hdi_97%</th>\n",
       "      <th>mcse_mean</th>\n",
       "      <th>mcse_sd</th>\n",
       "      <th>ess_bulk</th>\n",
       "      <th>ess_tail</th>\n",
       "      <th>r_hat</th>\n",
       "    </tr>\n",
       "  </thead>\n",
       "  <tbody>\n",
       "    <tr>\n",
       "      <th>bA</th>\n",
       "      <td>0.46</td>\n",
       "      <td>0.04</td>\n",
       "      <td>0.38</td>\n",
       "      <td>0.54</td>\n",
       "      <td>0.0</td>\n",
       "      <td>0.0</td>\n",
       "      <td>3174.95</td>\n",
       "      <td>3155.40</td>\n",
       "      <td>1.0</td>\n",
       "    </tr>\n",
       "    <tr>\n",
       "      <th>alpha[0]</th>\n",
       "      <td>-1.96</td>\n",
       "      <td>0.07</td>\n",
       "      <td>-2.08</td>\n",
       "      <td>-1.83</td>\n",
       "      <td>0.0</td>\n",
       "      <td>0.0</td>\n",
       "      <td>2404.65</td>\n",
       "      <td>2706.43</td>\n",
       "      <td>1.0</td>\n",
       "    </tr>\n",
       "    <tr>\n",
       "      <th>alpha[1]</th>\n",
       "      <td>-1.02</td>\n",
       "      <td>0.05</td>\n",
       "      <td>-1.11</td>\n",
       "      <td>-0.93</td>\n",
       "      <td>0.0</td>\n",
       "      <td>0.0</td>\n",
       "      <td>1952.44</td>\n",
       "      <td>2288.07</td>\n",
       "      <td>1.0</td>\n",
       "    </tr>\n",
       "    <tr>\n",
       "      <th>alpha[2]</th>\n",
       "      <td>-0.23</td>\n",
       "      <td>0.04</td>\n",
       "      <td>-0.31</td>\n",
       "      <td>-0.14</td>\n",
       "      <td>0.0</td>\n",
       "      <td>0.0</td>\n",
       "      <td>1633.37</td>\n",
       "      <td>2036.07</td>\n",
       "      <td>1.0</td>\n",
       "    </tr>\n",
       "    <tr>\n",
       "      <th>alpha[3]</th>\n",
       "      <td>0.34</td>\n",
       "      <td>0.05</td>\n",
       "      <td>0.25</td>\n",
       "      <td>0.42</td>\n",
       "      <td>0.0</td>\n",
       "      <td>0.0</td>\n",
       "      <td>1849.85</td>\n",
       "      <td>2387.57</td>\n",
       "      <td>1.0</td>\n",
       "    </tr>\n",
       "    <tr>\n",
       "      <th>alpha[4]</th>\n",
       "      <td>1.01</td>\n",
       "      <td>0.05</td>\n",
       "      <td>0.93</td>\n",
       "      <td>1.11</td>\n",
       "      <td>0.0</td>\n",
       "      <td>0.0</td>\n",
       "      <td>2037.42</td>\n",
       "      <td>2558.49</td>\n",
       "      <td>1.0</td>\n",
       "    </tr>\n",
       "    <tr>\n",
       "      <th>alpha[5]</th>\n",
       "      <td>1.90</td>\n",
       "      <td>0.06</td>\n",
       "      <td>1.78</td>\n",
       "      <td>2.01</td>\n",
       "      <td>0.0</td>\n",
       "      <td>0.0</td>\n",
       "      <td>2435.60</td>\n",
       "      <td>3039.54</td>\n",
       "      <td>1.0</td>\n",
       "    </tr>\n",
       "  </tbody>\n",
       "</table>\n",
       "</div>"
      ],
      "text/plain": [
       "          mean    sd  hdi_3%  hdi_97%  mcse_mean  mcse_sd  ess_bulk  ess_tail  \\\n",
       "bA        0.46  0.04    0.38     0.54        0.0      0.0   3174.95   3155.40   \n",
       "alpha[0] -1.96  0.07   -2.08    -1.83        0.0      0.0   2404.65   2706.43   \n",
       "alpha[1] -1.02  0.05   -1.11    -0.93        0.0      0.0   1952.44   2288.07   \n",
       "alpha[2] -0.23  0.04   -0.31    -0.14        0.0      0.0   1633.37   2036.07   \n",
       "alpha[3]  0.34  0.05    0.25     0.42        0.0      0.0   1849.85   2387.57   \n",
       "alpha[4]  1.01  0.05    0.93     1.11        0.0      0.0   2037.42   2558.49   \n",
       "alpha[5]  1.90  0.06    1.78     2.01        0.0      0.0   2435.60   3039.54   \n",
       "\n",
       "          r_hat  \n",
       "bA          1.0  \n",
       "alpha[0]    1.0  \n",
       "alpha[1]    1.0  \n",
       "alpha[2]    1.0  \n",
       "alpha[3]    1.0  \n",
       "alpha[4]    1.0  \n",
       "alpha[5]    1.0  "
      ]
     },
     "execution_count": 11,
     "metadata": {},
     "output_type": "execute_result"
    }
   ],
   "source": [
    "# Importing necessary libraries\n",
    "import pymc as pm\n",
    "import pytensor.tensor as pt\n",
    "\n",
    "RANDOM_SEED = 8927\n",
    "\n",
    "A = df['Age']\n",
    "C = df['CAEC']\n",
    "F = df['FAF']\n",
    "O = df['NObeyesdad']\n",
    "\n",
    "with pm.Model() as mRXE:\n",
    "    alpha = pm.Normal(\n",
    "        \"alpha\",\n",
    "        0.0,\n",
    "        1,\n",
    "        shape=6,\n",
    "        testval=np.arange(6),\n",
    "    )\n",
    "    bA = pm.Normal(\"bA\", 0.2, 1) \n",
    "    \n",
    "    phi = bA * A \n",
    "    resp_obs = pm.OrderedLogistic(\"resp_obs\", phi, alpha, observed=O)\n",
    "    idata_RXE = pm.sample(2000, tune=2000, random_seed=RANDOM_SEED)\n",
    "pm.summary(idata_RXE, var_names=[ \"bA\", \"alpha\"], round_to=2)"
   ]
  },
  {
   "cell_type": "markdown",
   "metadata": {
    "cell_id": "9a5488dbdd9543abafe5ee937d900b86",
    "deepnote_app_coordinates": {
     "h": 2,
     "w": 8,
     "x": 0,
     "y": 0
    },
    "deepnote_cell_type": "text-cell-p",
    "formattedRanges": []
   },
   "source": [
    "Direct Effect of Age on Obesity Level."
   ]
  },
  {
   "cell_type": "code",
   "execution_count": 12,
   "metadata": {
    "cell_id": "d3fd58f463cf4914b47ee7c7c15d3db9",
    "deepnote_app_coordinates": {
     "h": 120,
     "w": 12,
     "x": 0,
     "y": 0
    },
    "deepnote_cell_type": "code",
    "deepnote_table_loading": false,
    "deepnote_table_state": {
     "filters": [],
     "pageIndex": 0,
     "pageSize": 25,
     "sortBy": []
    },
    "deepnote_to_be_reexecuted": false,
    "execution_millis": 204466,
    "execution_start": 1702355224745,
    "source_hash": "d80f8a5b"
   },
   "outputs": [
    {
     "name": "stderr",
     "output_type": "stream",
     "text": [
      "/tmp/ipykernel_86/1653707827.py:8: FutureWarning: The `testval` argument is deprecated; use `initval`.\n",
      "  alpha = pm.Normal(\n",
      "Auto-assigning NUTS sampler...\n",
      "Initializing NUTS using jitter+adapt_diag...\n",
      "Multiprocess sampling (2 chains in 2 jobs)\n",
      "NUTS: [alpha, bA, bF]\n"
     ]
    },
    {
     "data": {
      "text/html": [
       "\n",
       "<style>\n",
       "    /* Turns off some styling */\n",
       "    progress {\n",
       "        /* gets rid of default border in Firefox and Opera. */\n",
       "        border: none;\n",
       "        /* Needs to be in here for Safari polyfill so background images work as expected. */\n",
       "        background-size: auto;\n",
       "    }\n",
       "    progress:not([value]), progress:not([value])::-webkit-progress-bar {\n",
       "        background: repeating-linear-gradient(45deg, #7e7e7e, #7e7e7e 10px, #5c5c5c 10px, #5c5c5c 20px);\n",
       "    }\n",
       "    .progress-bar-interrupted, .progress-bar-interrupted::-webkit-progress-bar {\n",
       "        background: #F44336;\n",
       "    }\n",
       "</style>\n"
      ],
      "text/plain": [
       "<IPython.core.display.HTML object>"
      ]
     },
     "metadata": {},
     "output_type": "display_data"
    },
    {
     "data": {
      "text/html": [
       "\n",
       "    <div>\n",
       "      <progress value='0' class='' max='8000' style='width:300px; height:20px; vertical-align: middle;'></progress>\n",
       "      \n",
       "    </div>\n",
       "    "
      ],
      "text/plain": [
       "<IPython.core.display.HTML object>"
      ]
     },
     "metadata": {},
     "output_type": "display_data"
    },
    {
     "name": "stderr",
     "output_type": "stream",
     "text": [
      "Sampling 2 chains for 2_000 tune and 2_000 draw iterations (4_000 + 4_000 draws total) took 180 seconds.\n",
      "We recommend running at least 4 chains for robust computation of convergence diagnostics\n"
     ]
    },
    {
     "data": {
      "application/vnd.deepnote.dataframe.v3+json": {
       "column_count": 9,
       "columns": [
        {
         "dtype": "float64",
         "name": "mean",
         "stats": {
          "histogram": [
           {
            "bin_end": -1.7280000000000002,
            "bin_start": -2.16,
            "count": 1
           },
           {
            "bin_end": -1.296,
            "bin_start": -1.7280000000000002,
            "count": 0
           },
           {
            "bin_end": -0.8639999999999999,
            "bin_start": -1.296,
            "count": 3
           },
           {
            "bin_end": -0.43199999999999994,
            "bin_start": -0.8639999999999999,
            "count": 1
           },
           {
            "bin_end": 0,
            "bin_start": -0.43199999999999994,
            "count": 3
           },
           {
            "bin_end": 0.4320000000000004,
            "bin_start": 0,
            "count": 3
           },
           {
            "bin_end": 0.8640000000000003,
            "bin_start": 0.4320000000000004,
            "count": 0
           },
           {
            "bin_end": 1.2960000000000003,
            "bin_start": 0.8640000000000003,
            "count": 1
           },
           {
            "bin_end": 1.7280000000000002,
            "bin_start": 1.2960000000000003,
            "count": 0
           },
           {
            "bin_end": 2.16,
            "bin_start": 1.7280000000000002,
            "count": 2
           }
          ],
          "max": "2.16",
          "min": "-2.16",
          "nan_count": 0,
          "unique_count": 13
         }
        },
        {
         "dtype": "float64",
         "name": "sd",
         "stats": {
          "histogram": [
           {
            "bin_end": 0.07600000000000001,
            "bin_start": 0.04,
            "count": 8
           },
           {
            "bin_end": 0.11200000000000002,
            "bin_start": 0.07600000000000001,
            "count": 0
           },
           {
            "bin_end": 0.14800000000000002,
            "bin_start": 0.11200000000000002,
            "count": 1
           },
           {
            "bin_end": 0.18400000000000002,
            "bin_start": 0.14800000000000002,
            "count": 1
           },
           {
            "bin_end": 0.22000000000000003,
            "bin_start": 0.18400000000000002,
            "count": 1
           },
           {
            "bin_end": 0.256,
            "bin_start": 0.22000000000000003,
            "count": 1
           },
           {
            "bin_end": 0.292,
            "bin_start": 0.256,
            "count": 0
           },
           {
            "bin_end": 0.328,
            "bin_start": 0.292,
            "count": 0
           },
           {
            "bin_end": 0.36400000000000005,
            "bin_start": 0.328,
            "count": 1
           },
           {
            "bin_end": 0.4,
            "bin_start": 0.36400000000000005,
            "count": 1
           }
          ],
          "max": "0.4",
          "min": "0.04",
          "nan_count": 0,
          "unique_count": 10
         }
        },
        {
         "dtype": "float64",
         "name": "hdi_3%",
         "stats": {
          "histogram": [
           {
            "bin_end": -1.89,
            "bin_start": -2.3,
            "count": 2
           },
           {
            "bin_end": -1.48,
            "bin_start": -1.89,
            "count": 1
           },
           {
            "bin_end": -1.0699999999999998,
            "bin_start": -1.48,
            "count": 1
           },
           {
            "bin_end": -0.6599999999999999,
            "bin_start": -1.0699999999999998,
            "count": 1
           },
           {
            "bin_end": -0.25,
            "bin_start": -0.6599999999999999,
            "count": 3
           },
           {
            "bin_end": 0.16000000000000014,
            "bin_start": -0.25,
            "count": 1
           },
           {
            "bin_end": 0.5699999999999998,
            "bin_start": 0.16000000000000014,
            "count": 2
           },
           {
            "bin_end": 0.98,
            "bin_start": 0.5699999999999998,
            "count": 1
           },
           {
            "bin_end": 1.3900000000000001,
            "bin_start": 0.98,
            "count": 0
           },
           {
            "bin_end": 1.8,
            "bin_start": 1.3900000000000001,
            "count": 2
           }
          ],
          "max": "1.8",
          "min": "-2.3",
          "nan_count": 0,
          "unique_count": 14
         }
        },
        {
         "dtype": "float64",
         "name": "hdi_97%",
         "stats": {
          "histogram": [
           {
            "bin_end": -1.5759999999999998,
            "bin_start": -2.03,
            "count": 1
           },
           {
            "bin_end": -1.1219999999999999,
            "bin_start": -1.5759999999999998,
            "count": 0
           },
           {
            "bin_end": -0.6680000000000001,
            "bin_start": -1.1219999999999999,
            "count": 1
           },
           {
            "bin_end": -0.2140000000000002,
            "bin_start": -0.6680000000000001,
            "count": 2
           },
           {
            "bin_end": 0.23999999999999977,
            "bin_start": -0.2140000000000002,
            "count": 4
           },
           {
            "bin_end": 0.6939999999999995,
            "bin_start": 0.23999999999999977,
            "count": 2
           },
           {
            "bin_end": 1.1479999999999997,
            "bin_start": 0.6939999999999995,
            "count": 2
           },
           {
            "bin_end": 1.6019999999999994,
            "bin_start": 1.1479999999999997,
            "count": 0
           },
           {
            "bin_end": 2.0559999999999996,
            "bin_start": 1.6019999999999994,
            "count": 1
           },
           {
            "bin_end": 2.51,
            "bin_start": 2.0559999999999996,
            "count": 1
           }
          ],
          "max": "2.51",
          "min": "-2.03",
          "nan_count": 0,
          "unique_count": 14
         }
        },
        {
         "dtype": "float64",
         "name": "mcse_mean",
         "stats": {
          "histogram": [
           {
            "bin_end": -0.4,
            "bin_start": -0.5,
            "count": 0
           },
           {
            "bin_end": -0.3,
            "bin_start": -0.4,
            "count": 0
           },
           {
            "bin_end": -0.19999999999999996,
            "bin_start": -0.3,
            "count": 0
           },
           {
            "bin_end": -0.09999999999999998,
            "bin_start": -0.19999999999999996,
            "count": 0
           },
           {
            "bin_end": 0,
            "bin_start": -0.09999999999999998,
            "count": 0
           },
           {
            "bin_end": 0.10000000000000009,
            "bin_start": 0,
            "count": 14
           },
           {
            "bin_end": 0.20000000000000007,
            "bin_start": 0.10000000000000009,
            "count": 0
           },
           {
            "bin_end": 0.30000000000000004,
            "bin_start": 0.20000000000000007,
            "count": 0
           },
           {
            "bin_end": 0.4,
            "bin_start": 0.30000000000000004,
            "count": 0
           },
           {
            "bin_end": 0.5,
            "bin_start": 0.4,
            "count": 0
           }
          ],
          "max": "0.0",
          "min": "0.0",
          "nan_count": 0,
          "unique_count": 1
         }
        },
        {
         "dtype": "float64",
         "name": "mcse_sd",
         "stats": {
          "histogram": [
           {
            "bin_end": -0.4,
            "bin_start": -0.5,
            "count": 0
           },
           {
            "bin_end": -0.3,
            "bin_start": -0.4,
            "count": 0
           },
           {
            "bin_end": -0.19999999999999996,
            "bin_start": -0.3,
            "count": 0
           },
           {
            "bin_end": -0.09999999999999998,
            "bin_start": -0.19999999999999996,
            "count": 0
           },
           {
            "bin_end": 0,
            "bin_start": -0.09999999999999998,
            "count": 0
           },
           {
            "bin_end": 0.10000000000000009,
            "bin_start": 0,
            "count": 14
           },
           {
            "bin_end": 0.20000000000000007,
            "bin_start": 0.10000000000000009,
            "count": 0
           },
           {
            "bin_end": 0.30000000000000004,
            "bin_start": 0.20000000000000007,
            "count": 0
           },
           {
            "bin_end": 0.4,
            "bin_start": 0.30000000000000004,
            "count": 0
           },
           {
            "bin_end": 0.5,
            "bin_start": 0.4,
            "count": 0
           }
          ],
          "max": "0.0",
          "min": "0.0",
          "nan_count": 0,
          "unique_count": 1
         }
        },
        {
         "dtype": "float64",
         "name": "ess_bulk",
         "stats": {
          "histogram": [
           {
            "bin_end": 2636.912,
            "bin_start": 1937.82,
            "count": 5
           },
           {
            "bin_end": 3336.004,
            "bin_start": 2636.912,
            "count": 1
           },
           {
            "bin_end": 4035.0959999999995,
            "bin_start": 3336.004,
            "count": 1
           },
           {
            "bin_end": 4734.188,
            "bin_start": 4035.0959999999995,
            "count": 0
           },
           {
            "bin_end": 5433.28,
            "bin_start": 4734.188,
            "count": 0
           },
           {
            "bin_end": 6132.371999999999,
            "bin_start": 5433.28,
            "count": 0
           },
           {
            "bin_end": 6831.464,
            "bin_start": 6132.371999999999,
            "count": 3
           },
           {
            "bin_end": 7530.556,
            "bin_start": 6831.464,
            "count": 2
           },
           {
            "bin_end": 8229.648,
            "bin_start": 7530.556,
            "count": 1
           },
           {
            "bin_end": 8928.74,
            "bin_start": 8229.648,
            "count": 1
           }
          ],
          "max": "8928.74",
          "min": "1937.82",
          "nan_count": 0,
          "unique_count": 14
         }
        },
        {
         "dtype": "float64",
         "name": "ess_tail",
         "stats": {
          "histogram": [
           {
            "bin_end": 2656.552,
            "bin_start": 2576.03,
            "count": 1
           },
           {
            "bin_end": 2737.074,
            "bin_start": 2656.552,
            "count": 3
           },
           {
            "bin_end": 2817.596,
            "bin_start": 2737.074,
            "count": 1
           },
           {
            "bin_end": 2898.118,
            "bin_start": 2817.596,
            "count": 0
           },
           {
            "bin_end": 2978.6400000000003,
            "bin_start": 2898.118,
            "count": 0
           },
           {
            "bin_end": 3059.1620000000003,
            "bin_start": 2978.6400000000003,
            "count": 3
           },
           {
            "bin_end": 3139.684,
            "bin_start": 3059.1620000000003,
            "count": 1
           },
           {
            "bin_end": 3220.206,
            "bin_start": 3139.684,
            "count": 2
           },
           {
            "bin_end": 3300.728,
            "bin_start": 3220.206,
            "count": 1
           },
           {
            "bin_end": 3381.25,
            "bin_start": 3300.728,
            "count": 2
           }
          ],
          "max": "3381.25",
          "min": "2576.03",
          "nan_count": 0,
          "unique_count": 14
         }
        },
        {
         "dtype": "float64",
         "name": "r_hat",
         "stats": {
          "histogram": [
           {
            "bin_end": 0.6,
            "bin_start": 0.5,
            "count": 0
           },
           {
            "bin_end": 0.7,
            "bin_start": 0.6,
            "count": 0
           },
           {
            "bin_end": 0.8,
            "bin_start": 0.7,
            "count": 0
           },
           {
            "bin_end": 0.9,
            "bin_start": 0.8,
            "count": 0
           },
           {
            "bin_end": 1,
            "bin_start": 0.9,
            "count": 0
           },
           {
            "bin_end": 1.1,
            "bin_start": 1,
            "count": 14
           },
           {
            "bin_end": 1.2000000000000002,
            "bin_start": 1.1,
            "count": 0
           },
           {
            "bin_end": 1.3,
            "bin_start": 1.2000000000000002,
            "count": 0
           },
           {
            "bin_end": 1.4,
            "bin_start": 1.3,
            "count": 0
           },
           {
            "bin_end": 1.5,
            "bin_start": 1.4,
            "count": 0
           }
          ],
          "max": "1.0",
          "min": "1.0",
          "nan_count": 0,
          "unique_count": 1
         }
        },
        {
         "dtype": "object",
         "name": "_deepnote_index_column"
        }
       ],
       "row_count": 14,
       "rows": [
        {
         "_deepnote_index_column": "bF[0]",
         "ess_bulk": 7617.81,
         "ess_tail": 3322.7,
         "hdi_3%": -1.66,
         "hdi_97%": -0.44,
         "mcse_mean": 0,
         "mcse_sd": 0,
         "mean": -1.07,
         "r_hat": 1,
         "sd": 0.33
        },
        {
         "_deepnote_index_column": "bF[1]",
         "ess_bulk": 7283.14,
         "ess_tail": 3281.22,
         "hdi_3%": -0.26,
         "hdi_97%": -0.1,
         "mcse_mean": 0,
         "mcse_sd": 0,
         "mean": -0.18,
         "r_hat": 1,
         "sd": 0.04
        },
        {
         "_deepnote_index_column": "bF[2]",
         "ess_bulk": 8928.74,
         "ess_tail": 3036.79,
         "hdi_3%": -0.34,
         "hdi_97%": 0.11,
         "mcse_mean": 0,
         "mcse_sd": 0,
         "mean": -0.11,
         "r_hat": 1,
         "sd": 0.12
        },
        {
         "_deepnote_index_column": "bF[3]",
         "ess_bulk": 6382.14,
         "ess_tail": 3118.98,
         "hdi_3%": -0.78,
         "hdi_97%": -0.11,
         "mcse_mean": 0,
         "mcse_sd": 0,
         "mean": -0.44,
         "r_hat": 1,
         "sd": 0.18
        },
        {
         "_deepnote_index_column": "bA[0]",
         "ess_bulk": 6326.79,
         "ess_tail": 3381.25,
         "hdi_3%": -2.04,
         "hdi_97%": -0.57,
         "mcse_mean": 0,
         "mcse_sd": 0,
         "mean": -1.26,
         "r_hat": 1,
         "sd": 0.4
        },
        {
         "_deepnote_index_column": "bA[1]",
         "ess_bulk": 7050.66,
         "ess_tail": 3179.68,
         "hdi_3%": 0.25,
         "hdi_97%": 0.42,
         "mcse_mean": 0,
         "mcse_sd": 0,
         "mean": 0.34,
         "r_hat": 1,
         "sd": 0.04
        },
        {
         "_deepnote_index_column": "bA[2]",
         "ess_bulk": 3773.99,
         "ess_tail": 2786.96,
         "hdi_3%": 1.8,
         "hdi_97%": 2.51,
         "mcse_mean": 0,
         "mcse_sd": 0,
         "mean": 2.16,
         "r_hat": 1,
         "sd": 0.19
        },
        {
         "_deepnote_index_column": "bA[3]",
         "ess_bulk": 6160.57,
         "ess_tail": 2576.03,
         "hdi_3%": -0.17,
         "hdi_97%": 0.77,
         "mcse_mean": 0,
         "mcse_sd": 0,
         "mean": 0.31,
         "r_hat": 1,
         "sd": 0.25
        },
        {
         "_deepnote_index_column": "alpha[0]",
         "ess_bulk": 2548.43,
         "ess_tail": 2670.09,
         "hdi_3%": -2.3,
         "hdi_97%": -2.03,
         "mcse_mean": 0,
         "mcse_sd": 0,
         "mean": -2.16,
         "r_hat": 1,
         "sd": 0.07
        },
        {
         "_deepnote_index_column": "alpha[1]",
         "ess_bulk": 1937.82,
         "ess_tail": 2719.99,
         "hdi_3%": -1.24,
         "hdi_97%": -1.04,
         "mcse_mean": 0,
         "mcse_sd": 0,
         "mean": -1.14,
         "r_hat": 1,
         "sd": 0.05
        },
        {
         "_deepnote_index_column": "alpha[2]",
         "ess_bulk": 2020.03,
         "ess_tail": 3000.42,
         "hdi_3%": -0.39,
         "hdi_97%": -0.21,
         "mcse_mean": 0,
         "mcse_sd": 0,
         "mean": -0.3,
         "r_hat": 1,
         "sd": 0.05
        },
        {
         "_deepnote_index_column": "alpha[3]",
         "ess_bulk": 2057.81,
         "ess_tail": 2661.91,
         "hdi_3%": 0.22,
         "hdi_97%": 0.39,
         "mcse_mean": 0,
         "mcse_sd": 0,
         "mean": 0.31,
         "r_hat": 1,
         "sd": 0.05
        },
        {
         "_deepnote_index_column": "alpha[4]",
         "ess_bulk": 2477.07,
         "ess_tail": 3039.72,
         "hdi_3%": 0.91,
         "hdi_97%": 1.11,
         "mcse_mean": 0,
         "mcse_sd": 0,
         "mean": 1.01,
         "r_hat": 1,
         "sd": 0.05
        },
        {
         "_deepnote_index_column": "alpha[5]",
         "ess_bulk": 3186.07,
         "ess_tail": 3172.13,
         "hdi_3%": 1.79,
         "hdi_97%": 2.03,
         "mcse_mean": 0,
         "mcse_sd": 0,
         "mean": 1.91,
         "r_hat": 1,
         "sd": 0.06
        }
       ]
      },
      "text/html": [
       "<div>\n",
       "<style scoped>\n",
       "    .dataframe tbody tr th:only-of-type {\n",
       "        vertical-align: middle;\n",
       "    }\n",
       "\n",
       "    .dataframe tbody tr th {\n",
       "        vertical-align: top;\n",
       "    }\n",
       "\n",
       "    .dataframe thead th {\n",
       "        text-align: right;\n",
       "    }\n",
       "</style>\n",
       "<table border=\"1\" class=\"dataframe\">\n",
       "  <thead>\n",
       "    <tr style=\"text-align: right;\">\n",
       "      <th></th>\n",
       "      <th>mean</th>\n",
       "      <th>sd</th>\n",
       "      <th>hdi_3%</th>\n",
       "      <th>hdi_97%</th>\n",
       "      <th>mcse_mean</th>\n",
       "      <th>mcse_sd</th>\n",
       "      <th>ess_bulk</th>\n",
       "      <th>ess_tail</th>\n",
       "      <th>r_hat</th>\n",
       "    </tr>\n",
       "  </thead>\n",
       "  <tbody>\n",
       "    <tr>\n",
       "      <th>bF[0]</th>\n",
       "      <td>-1.07</td>\n",
       "      <td>0.33</td>\n",
       "      <td>-1.66</td>\n",
       "      <td>-0.44</td>\n",
       "      <td>0.0</td>\n",
       "      <td>0.0</td>\n",
       "      <td>7617.81</td>\n",
       "      <td>3322.70</td>\n",
       "      <td>1.0</td>\n",
       "    </tr>\n",
       "    <tr>\n",
       "      <th>bF[1]</th>\n",
       "      <td>-0.18</td>\n",
       "      <td>0.04</td>\n",
       "      <td>-0.26</td>\n",
       "      <td>-0.10</td>\n",
       "      <td>0.0</td>\n",
       "      <td>0.0</td>\n",
       "      <td>7283.14</td>\n",
       "      <td>3281.22</td>\n",
       "      <td>1.0</td>\n",
       "    </tr>\n",
       "    <tr>\n",
       "      <th>bF[2]</th>\n",
       "      <td>-0.11</td>\n",
       "      <td>0.12</td>\n",
       "      <td>-0.34</td>\n",
       "      <td>0.11</td>\n",
       "      <td>0.0</td>\n",
       "      <td>0.0</td>\n",
       "      <td>8928.74</td>\n",
       "      <td>3036.79</td>\n",
       "      <td>1.0</td>\n",
       "    </tr>\n",
       "    <tr>\n",
       "      <th>bF[3]</th>\n",
       "      <td>-0.44</td>\n",
       "      <td>0.18</td>\n",
       "      <td>-0.78</td>\n",
       "      <td>-0.11</td>\n",
       "      <td>0.0</td>\n",
       "      <td>0.0</td>\n",
       "      <td>6382.14</td>\n",
       "      <td>3118.98</td>\n",
       "      <td>1.0</td>\n",
       "    </tr>\n",
       "    <tr>\n",
       "      <th>bA[0]</th>\n",
       "      <td>-1.26</td>\n",
       "      <td>0.40</td>\n",
       "      <td>-2.04</td>\n",
       "      <td>-0.57</td>\n",
       "      <td>0.0</td>\n",
       "      <td>0.0</td>\n",
       "      <td>6326.79</td>\n",
       "      <td>3381.25</td>\n",
       "      <td>1.0</td>\n",
       "    </tr>\n",
       "    <tr>\n",
       "      <th>bA[1]</th>\n",
       "      <td>0.34</td>\n",
       "      <td>0.04</td>\n",
       "      <td>0.25</td>\n",
       "      <td>0.42</td>\n",
       "      <td>0.0</td>\n",
       "      <td>0.0</td>\n",
       "      <td>7050.66</td>\n",
       "      <td>3179.68</td>\n",
       "      <td>1.0</td>\n",
       "    </tr>\n",
       "    <tr>\n",
       "      <th>bA[2]</th>\n",
       "      <td>2.16</td>\n",
       "      <td>0.19</td>\n",
       "      <td>1.80</td>\n",
       "      <td>2.51</td>\n",
       "      <td>0.0</td>\n",
       "      <td>0.0</td>\n",
       "      <td>3773.99</td>\n",
       "      <td>2786.96</td>\n",
       "      <td>1.0</td>\n",
       "    </tr>\n",
       "    <tr>\n",
       "      <th>bA[3]</th>\n",
       "      <td>0.31</td>\n",
       "      <td>0.25</td>\n",
       "      <td>-0.17</td>\n",
       "      <td>0.77</td>\n",
       "      <td>0.0</td>\n",
       "      <td>0.0</td>\n",
       "      <td>6160.57</td>\n",
       "      <td>2576.03</td>\n",
       "      <td>1.0</td>\n",
       "    </tr>\n",
       "    <tr>\n",
       "      <th>alpha[0]</th>\n",
       "      <td>-2.16</td>\n",
       "      <td>0.07</td>\n",
       "      <td>-2.30</td>\n",
       "      <td>-2.03</td>\n",
       "      <td>0.0</td>\n",
       "      <td>0.0</td>\n",
       "      <td>2548.43</td>\n",
       "      <td>2670.09</td>\n",
       "      <td>1.0</td>\n",
       "    </tr>\n",
       "    <tr>\n",
       "      <th>alpha[1]</th>\n",
       "      <td>-1.14</td>\n",
       "      <td>0.05</td>\n",
       "      <td>-1.24</td>\n",
       "      <td>-1.04</td>\n",
       "      <td>0.0</td>\n",
       "      <td>0.0</td>\n",
       "      <td>1937.82</td>\n",
       "      <td>2719.99</td>\n",
       "      <td>1.0</td>\n",
       "    </tr>\n",
       "    <tr>\n",
       "      <th>alpha[2]</th>\n",
       "      <td>-0.30</td>\n",
       "      <td>0.05</td>\n",
       "      <td>-0.39</td>\n",
       "      <td>-0.21</td>\n",
       "      <td>0.0</td>\n",
       "      <td>0.0</td>\n",
       "      <td>2020.03</td>\n",
       "      <td>3000.42</td>\n",
       "      <td>1.0</td>\n",
       "    </tr>\n",
       "    <tr>\n",
       "      <th>alpha[3]</th>\n",
       "      <td>0.31</td>\n",
       "      <td>0.05</td>\n",
       "      <td>0.22</td>\n",
       "      <td>0.39</td>\n",
       "      <td>0.0</td>\n",
       "      <td>0.0</td>\n",
       "      <td>2057.81</td>\n",
       "      <td>2661.91</td>\n",
       "      <td>1.0</td>\n",
       "    </tr>\n",
       "    <tr>\n",
       "      <th>alpha[4]</th>\n",
       "      <td>1.01</td>\n",
       "      <td>0.05</td>\n",
       "      <td>0.91</td>\n",
       "      <td>1.11</td>\n",
       "      <td>0.0</td>\n",
       "      <td>0.0</td>\n",
       "      <td>2477.07</td>\n",
       "      <td>3039.72</td>\n",
       "      <td>1.0</td>\n",
       "    </tr>\n",
       "    <tr>\n",
       "      <th>alpha[5]</th>\n",
       "      <td>1.91</td>\n",
       "      <td>0.06</td>\n",
       "      <td>1.79</td>\n",
       "      <td>2.03</td>\n",
       "      <td>0.0</td>\n",
       "      <td>0.0</td>\n",
       "      <td>3186.07</td>\n",
       "      <td>3172.13</td>\n",
       "      <td>1.0</td>\n",
       "    </tr>\n",
       "  </tbody>\n",
       "</table>\n",
       "</div>"
      ],
      "text/plain": [
       "          mean    sd  hdi_3%  hdi_97%  mcse_mean  mcse_sd  ess_bulk  ess_tail  \\\n",
       "bF[0]    -1.07  0.33   -1.66    -0.44        0.0      0.0   7617.81   3322.70   \n",
       "bF[1]    -0.18  0.04   -0.26    -0.10        0.0      0.0   7283.14   3281.22   \n",
       "bF[2]    -0.11  0.12   -0.34     0.11        0.0      0.0   8928.74   3036.79   \n",
       "bF[3]    -0.44  0.18   -0.78    -0.11        0.0      0.0   6382.14   3118.98   \n",
       "bA[0]    -1.26  0.40   -2.04    -0.57        0.0      0.0   6326.79   3381.25   \n",
       "bA[1]     0.34  0.04    0.25     0.42        0.0      0.0   7050.66   3179.68   \n",
       "bA[2]     2.16  0.19    1.80     2.51        0.0      0.0   3773.99   2786.96   \n",
       "bA[3]     0.31  0.25   -0.17     0.77        0.0      0.0   6160.57   2576.03   \n",
       "alpha[0] -2.16  0.07   -2.30    -2.03        0.0      0.0   2548.43   2670.09   \n",
       "alpha[1] -1.14  0.05   -1.24    -1.04        0.0      0.0   1937.82   2719.99   \n",
       "alpha[2] -0.30  0.05   -0.39    -0.21        0.0      0.0   2020.03   3000.42   \n",
       "alpha[3]  0.31  0.05    0.22     0.39        0.0      0.0   2057.81   2661.91   \n",
       "alpha[4]  1.01  0.05    0.91     1.11        0.0      0.0   2477.07   3039.72   \n",
       "alpha[5]  1.91  0.06    1.79     2.03        0.0      0.0   3186.07   3172.13   \n",
       "\n",
       "          r_hat  \n",
       "bF[0]       1.0  \n",
       "bF[1]       1.0  \n",
       "bF[2]       1.0  \n",
       "bF[3]       1.0  \n",
       "bA[0]       1.0  \n",
       "bA[1]       1.0  \n",
       "bA[2]       1.0  \n",
       "bA[3]       1.0  \n",
       "alpha[0]    1.0  \n",
       "alpha[1]    1.0  \n",
       "alpha[2]    1.0  \n",
       "alpha[3]    1.0  \n",
       "alpha[4]    1.0  \n",
       "alpha[5]    1.0  "
      ]
     },
     "execution_count": 12,
     "metadata": {},
     "output_type": "execute_result"
    }
   ],
   "source": [
    "A = df['Age']\n",
    "C = df['CAEC']\n",
    "F = df['FAF']\n",
    "O = df['NObeyesdad']\n",
    "\n",
    "with pm.Model() as mRXE:\n",
    "    alpha = pm.Normal(\n",
    "        \"alpha\",\n",
    "        0.0,\n",
    "        1,\n",
    "        shape=6,\n",
    "        testval=np.arange(6),\n",
    "    )\n",
    "    bA = pm.Normal(\"bA\", 0.2, 1,shape = 4)\n",
    "    bF = pm.Normal(\"bF\", -0.2, 1,shape = 4)\n",
    "\n",
    "    phi =  bF[C] * F  + bA[C] * A \n",
    "    resp_obs = pm.OrderedLogistic(\"resp_obs\", phi, alpha, observed=O)\n",
    "    idata_RXE = pm.sample(2000, tune=2000, random_seed=RANDOM_SEED)\n",
    "pm.summary(idata_RXE, var_names=[ \"bF\", \"bA\", \"alpha\"], round_to=2)"
   ]
  },
  {
   "cell_type": "markdown",
   "metadata": {
    "created_in_deepnote_cell": true,
    "deepnote_cell_type": "markdown"
   },
   "source": [
    "<a style='text-decoration:none;line-height:16px;display:flex;color:#5B5B62;padding:10px;justify-content:end;' href='https://deepnote.com?utm_source=created-in-deepnote-cell&projectId=92a8fb55-5d6e-4e3b-8844-ce78d0661321' target=\"_blank\">\n",
    "<img alt='Created in deepnote.com' style='display:inline;max-height:16px;margin:0px;margin-right:7.5px;' src='data:image/svg+xml;base64,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' > </img>\n",
    "Created in <span style='font-weight:600;margin-left:4px;'>Deepnote</span></a>"
   ]
  }
 ],
 "metadata": {
  "deepnote": {},
  "deepnote_app_layout": "powerful-article",
  "deepnote_app_table_of_contents_enabled": false,
  "deepnote_execution_queue": [],
  "deepnote_notebook_id": "2824aaf30ed04a1a854c0ea5d545ac39",
  "kernelspec": {
   "display_name": "Python 3",
   "language": "python",
   "name": "python3"
  },
  "language_info": {
   "codemirror_mode": {
    "name": "ipython",
    "version": 3
   },
   "file_extension": ".py",
   "mimetype": "text/x-python",
   "name": "python",
   "nbconvert_exporter": "python",
   "pygments_lexer": "ipython3",
   "version": "3.8.8"
  }
 },
 "nbformat": 4,
 "nbformat_minor": 1
}
